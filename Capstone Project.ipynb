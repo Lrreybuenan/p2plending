{
 "cells": [
  {
   "cell_type": "markdown",
   "metadata": {},
   "source": [
    "# Capstone Project - Lending Club loans data\n",
    "Lending Club (LC) is a peer-to-peer online lending platform. It is the world’s largest marketplace connecting borrowers and investors, where consumers and small business owners lower the cost of their credit and enjoy a better experience than traditional bank lending, and investors earn attractive risk-adjusted returns.\n",
    "\n",
    "**How it works:**\n",
    "1. Customers interested in a loan complete a simple application at LendingClub.com\n",
    "2. LC leverage online data and technology to quickly assess risk, determine a credit rating and assign appropriate interest rates.\n",
    "3. Qualified applicants receive offers in just minutes and can evaluate loan options with no impact to their credit score\n",
    "4. Investors ranging from individuals to institutions select loans in which to invest and can earn monthly returns\n",
    "\n",
    "The entire process is online, using technology to lower the cost of credit and pass the savings back in the form of lower rates for borrowers and solid returns for investors. Here is the link to <a href = \"https://www.lendingclub.com/public/how-peer-lending-works.actionmore\">more</a> details about LC.\n",
    "\n",
    "**Problem Statement:** <br>\n",
    "In a peer-to-peer lending platform, it is normal that some borrowers will not fully pay for what they loan (Charged off - >120 days past due with their loan payment) even if LC provides lower interest rate compare to traditional bank loans. However, if the number of Charged off loans is increasing, it might negatively affect the investors Net Annualized Return (NAR) since the money funded by the investor will not be recovered anymore leading them to find other source of investments which in the long run, LC revenue will decrease if the number of their investors decreases.\n",
    "\n",
    "**Questions:**\n",
    "1. What are the characteristics or behaviors of borrowers that might be charging off their loans in the future?\n",
    "2. What is the risk that a specific borrower will charge off their loan?\n",
    "3. When these borrowers are going to charge off in the future?"
   ]
  },
  {
   "cell_type": "markdown",
   "metadata": {},
   "source": [
    "## Part 1 - Importing Libraries and Datasets\n",
    "\n",
    "I downloaded the dataset from the Lending Club site from year 2012-2014. It is composed of 432,810 rows and 142 columns overall."
   ]
  },
  {
   "cell_type": "code",
   "execution_count": 1,
   "metadata": {},
   "outputs": [
    {
     "name": "stderr",
     "output_type": "stream",
     "text": [
      "Invalid requirement: '#for'\n",
      "\n"
     ]
    }
   ],
   "source": [
    "#Install module\n",
    "!pip install lifelines #for survival analysis\n",
    "\n",
    "#Importing modules needed for the analysis\n",
    "import pandas as pd\n",
    "import numpy as np\n",
    "import matplotlib.pyplot as plt\n",
    "import seaborn as sns\n",
    "import warnings\n",
    "import sklearn.ensemble\n",
    "import lime\n",
    "import lime.lime_tabular\n",
    "import shap\n",
    "import time\n",
    "warnings.filterwarnings('ignore')\n",
    "\n",
    "from sklearn import preprocessing\n",
    "from sklearn.feature_selection import RFE\n",
    "from sklearn.linear_model import LogisticRegression\n",
    "from sklearn.model_selection import train_test_split, RandomizedSearchCV, GridSearchCV\n",
    "from sklearn.metrics import accuracy_score, f1_score, confusion_matrix, classification_report, roc_auc_score, roc_curve\n",
    "from sklearn.ensemble import RandomForestClassifier, BaggingClassifier, AdaBoostClassifier, ExtraTreesClassifier\n",
    "from sklearn.naive_bayes import GaussianNB\n",
    "from sklearn.preprocessing import StandardScaler, KBinsDiscretizer\n",
    "from sklearn.impute import SimpleImputer\n",
    "from scipy.stats import boxcox\n",
    "from scipy import stats\n",
    "from lifelines import *\n",
    "from sklearn.metrics import mean_absolute_error, mean_squared_error\n",
    "from sklearn.decomposition import PCA\n",
    "from sklearn.pipeline import Pipeline\n",
    "from xgboost import XGBClassifier\n",
    "\n",
    "%matplotlib inline"
   ]
  },
  {
   "cell_type": "code",
   "execution_count": 2,
   "metadata": {},
   "outputs": [
    {
     "name": "stdout",
     "output_type": "stream",
     "text": [
      "(423810, 143)\n"
     ]
    },
    {
     "data": {
      "text/html": [
       "<div>\n",
       "<style scoped>\n",
       "    .dataframe tbody tr th:only-of-type {\n",
       "        vertical-align: middle;\n",
       "    }\n",
       "\n",
       "    .dataframe tbody tr th {\n",
       "        vertical-align: top;\n",
       "    }\n",
       "\n",
       "    .dataframe thead th {\n",
       "        text-align: right;\n",
       "    }\n",
       "</style>\n",
       "<table border=\"1\" class=\"dataframe\">\n",
       "  <thead>\n",
       "    <tr style=\"text-align: right;\">\n",
       "      <th></th>\n",
       "      <th>loan_amnt</th>\n",
       "      <th>funded_amnt</th>\n",
       "      <th>funded_amnt_inv</th>\n",
       "      <th>term</th>\n",
       "      <th>int_rate</th>\n",
       "      <th>installment</th>\n",
       "      <th>grade</th>\n",
       "      <th>sub_grade</th>\n",
       "      <th>emp_title</th>\n",
       "      <th>emp_length</th>\n",
       "      <th>...</th>\n",
       "      <th>hardship_payoff_balance_amount</th>\n",
       "      <th>hardship_last_payment_amount</th>\n",
       "      <th>debt_settlement_flag</th>\n",
       "      <th>debt_settlement_flag_date</th>\n",
       "      <th>settlement_status</th>\n",
       "      <th>settlement_date</th>\n",
       "      <th>settlement_amount</th>\n",
       "      <th>settlement_percentage</th>\n",
       "      <th>settlement_term</th>\n",
       "      <th>months</th>\n",
       "    </tr>\n",
       "  </thead>\n",
       "  <tbody>\n",
       "    <tr>\n",
       "      <th>346000</th>\n",
       "      <td>14000</td>\n",
       "      <td>14000</td>\n",
       "      <td>13950.0</td>\n",
       "      <td>60 months</td>\n",
       "      <td>22.15%</td>\n",
       "      <td>387.86</td>\n",
       "      <td>E</td>\n",
       "      <td>E5</td>\n",
       "      <td>Manager</td>\n",
       "      <td>10+ years</td>\n",
       "      <td>...</td>\n",
       "      <td>NaN</td>\n",
       "      <td>NaN</td>\n",
       "      <td>N</td>\n",
       "      <td>NaN</td>\n",
       "      <td>NaN</td>\n",
       "      <td>NaN</td>\n",
       "      <td>NaN</td>\n",
       "      <td>NaN</td>\n",
       "      <td>NaN</td>\n",
       "      <td>23.0</td>\n",
       "    </tr>\n",
       "    <tr>\n",
       "      <th>397892</th>\n",
       "      <td>24000</td>\n",
       "      <td>24000</td>\n",
       "      <td>24000.0</td>\n",
       "      <td>60 months</td>\n",
       "      <td>14.64%</td>\n",
       "      <td>566.44</td>\n",
       "      <td>C</td>\n",
       "      <td>C3</td>\n",
       "      <td>Public Relations</td>\n",
       "      <td>&lt; 1 year</td>\n",
       "      <td>...</td>\n",
       "      <td>NaN</td>\n",
       "      <td>NaN</td>\n",
       "      <td>N</td>\n",
       "      <td>NaN</td>\n",
       "      <td>NaN</td>\n",
       "      <td>NaN</td>\n",
       "      <td>NaN</td>\n",
       "      <td>NaN</td>\n",
       "      <td>NaN</td>\n",
       "      <td>31.0</td>\n",
       "    </tr>\n",
       "    <tr>\n",
       "      <th>409438</th>\n",
       "      <td>15000</td>\n",
       "      <td>15000</td>\n",
       "      <td>15000.0</td>\n",
       "      <td>36 months</td>\n",
       "      <td>15.61%</td>\n",
       "      <td>524.48</td>\n",
       "      <td>C</td>\n",
       "      <td>C4</td>\n",
       "      <td>install tech</td>\n",
       "      <td>10+ years</td>\n",
       "      <td>...</td>\n",
       "      <td>NaN</td>\n",
       "      <td>NaN</td>\n",
       "      <td>N</td>\n",
       "      <td>NaN</td>\n",
       "      <td>NaN</td>\n",
       "      <td>NaN</td>\n",
       "      <td>NaN</td>\n",
       "      <td>NaN</td>\n",
       "      <td>NaN</td>\n",
       "      <td>17.0</td>\n",
       "    </tr>\n",
       "    <tr>\n",
       "      <th>201219</th>\n",
       "      <td>18000</td>\n",
       "      <td>18000</td>\n",
       "      <td>18000.0</td>\n",
       "      <td>60 months</td>\n",
       "      <td>14.31%</td>\n",
       "      <td>421.73</td>\n",
       "      <td>C</td>\n",
       "      <td>C4</td>\n",
       "      <td>VP OF OPERATIONS</td>\n",
       "      <td>4 years</td>\n",
       "      <td>...</td>\n",
       "      <td>NaN</td>\n",
       "      <td>NaN</td>\n",
       "      <td>N</td>\n",
       "      <td>NaN</td>\n",
       "      <td>NaN</td>\n",
       "      <td>NaN</td>\n",
       "      <td>NaN</td>\n",
       "      <td>NaN</td>\n",
       "      <td>NaN</td>\n",
       "      <td>4.0</td>\n",
       "    </tr>\n",
       "    <tr>\n",
       "      <th>218822</th>\n",
       "      <td>17000</td>\n",
       "      <td>17000</td>\n",
       "      <td>17000.0</td>\n",
       "      <td>36 months</td>\n",
       "      <td>8.19%</td>\n",
       "      <td>534.21</td>\n",
       "      <td>A</td>\n",
       "      <td>A5</td>\n",
       "      <td>Accounting Manager</td>\n",
       "      <td>1 year</td>\n",
       "      <td>...</td>\n",
       "      <td>NaN</td>\n",
       "      <td>NaN</td>\n",
       "      <td>N</td>\n",
       "      <td>NaN</td>\n",
       "      <td>NaN</td>\n",
       "      <td>NaN</td>\n",
       "      <td>NaN</td>\n",
       "      <td>NaN</td>\n",
       "      <td>NaN</td>\n",
       "      <td>27.0</td>\n",
       "    </tr>\n",
       "  </tbody>\n",
       "</table>\n",
       "<p>5 rows × 143 columns</p>\n",
       "</div>"
      ],
      "text/plain": [
       "        loan_amnt  funded_amnt  funded_amnt_inv        term int_rate  \\\n",
       "346000      14000        14000          13950.0   60 months   22.15%   \n",
       "397892      24000        24000          24000.0   60 months   14.64%   \n",
       "409438      15000        15000          15000.0   36 months   15.61%   \n",
       "201219      18000        18000          18000.0   60 months   14.31%   \n",
       "218822      17000        17000          17000.0   36 months    8.19%   \n",
       "\n",
       "        installment grade sub_grade           emp_title emp_length  ...  \\\n",
       "346000       387.86     E        E5             Manager  10+ years  ...   \n",
       "397892       566.44     C        C3   Public Relations    < 1 year  ...   \n",
       "409438       524.48     C        C4        install tech  10+ years  ...   \n",
       "201219       421.73     C        C4    VP OF OPERATIONS    4 years  ...   \n",
       "218822       534.21     A        A5  Accounting Manager     1 year  ...   \n",
       "\n",
       "       hardship_payoff_balance_amount  hardship_last_payment_amount  \\\n",
       "346000                            NaN                           NaN   \n",
       "397892                            NaN                           NaN   \n",
       "409438                            NaN                           NaN   \n",
       "201219                            NaN                           NaN   \n",
       "218822                            NaN                           NaN   \n",
       "\n",
       "       debt_settlement_flag debt_settlement_flag_date settlement_status  \\\n",
       "346000                    N                       NaN               NaN   \n",
       "397892                    N                       NaN               NaN   \n",
       "409438                    N                       NaN               NaN   \n",
       "201219                    N                       NaN               NaN   \n",
       "218822                    N                       NaN               NaN   \n",
       "\n",
       "       settlement_date  settlement_amount settlement_percentage  \\\n",
       "346000             NaN                NaN                   NaN   \n",
       "397892             NaN                NaN                   NaN   \n",
       "409438             NaN                NaN                   NaN   \n",
       "201219             NaN                NaN                   NaN   \n",
       "218822             NaN                NaN                   NaN   \n",
       "\n",
       "       settlement_term months  \n",
       "346000             NaN   23.0  \n",
       "397892             NaN   31.0  \n",
       "409438             NaN   17.0  \n",
       "201219             NaN    4.0  \n",
       "218822             NaN   27.0  \n",
       "\n",
       "[5 rows x 143 columns]"
      ]
     },
     "execution_count": 2,
     "metadata": {},
     "output_type": "execute_result"
    }
   ],
   "source": [
    "df = pd.read_csv('lcdata.csv')\n",
    "print(df.shape)\n",
    "df.sample(5)"
   ]
  },
  {
   "cell_type": "markdown",
   "metadata": {},
   "source": [
    "# Data Preprocessing\n",
    "\n",
    "Removing columns, creating new columns, binning ordinal values, and imputing missing values."
   ]
  },
  {
   "cell_type": "code",
   "execution_count": 3,
   "metadata": {},
   "outputs": [
    {
     "data": {
      "image/png": "[encoded data removed]",
      "text/plain": [
       "<Figure size 1440x288 with 1 Axes>"
      ]
     },
     "metadata": {
      "needs_background": "light"
     },
     "output_type": "display_data"
    },
    {
     "data": {
      "text/plain": [
       "56"
      ]
     },
     "execution_count": 3,
     "metadata": {},
     "output_type": "execute_result"
    }
   ],
   "source": [
    "#Removing columns which have missing values greater than 40% of the data\n",
    "NA_col = df.isnull().sum()\n",
    "NA_col = NA_col[NA_col.values >(0.4*len(df))]\n",
    "\n",
    "#Plotting the columns\n",
    "plt.figure(figsize=(20,4))\n",
    "NA_col.plot(kind='bar')\n",
    "plt.title('List of Columns & NA counts where NA values are more than 40%')\n",
    "plt.show()\n",
    "\n",
    "#Number of columns that will be removed\n",
    "NA_col.count()"
   ]
  },
  {
   "cell_type": "code",
   "execution_count": 4,
   "metadata": {},
   "outputs": [],
   "source": [
    "#Function for removing columns which have greater than 40% missing values\n",
    "def removeNulls(dataframe, axis =1, percent=0.4):\n",
    "    '''\n",
    "    * removeNull function will remove the rows and columns based on parameters provided.\n",
    "    * dataframe : Name of the dataframe  \n",
    "    * axis      : axis = 0 defines drop rows, axis =1(default) defines drop columns    \n",
    "    * percent   : percent of data where column/rows values are null,default is 0.3(30%)\n",
    "              \n",
    "    '''\n",
    "    df = dataframe.copy()\n",
    "    ishape = df.shape\n",
    "    if axis == 0:\n",
    "        rownames = df.transpose().isnull().sum()\n",
    "        rownames = list(rownames[rownames.values > percent*len(df)].index)\n",
    "        df.drop(df.index[rownames],inplace=True) \n",
    "        print(\"\\nNumber of Rows dropped\\t: \",len(rownames))\n",
    "    else:\n",
    "        colnames = (df.isnull().sum()/len(df))\n",
    "        colnames = list(colnames[colnames.values>=percent].index)\n",
    "        df.drop(labels = colnames,axis =1,inplace=True)        \n",
    "        print(\"Number of Columns dropped\\t: \",len(colnames))\n",
    "        \n",
    "    print(\"\\nOld dataset rows,columns\",ishape,\"\\nNew dataset rows,columns\",df.shape)\n",
    "\n",
    "    return df"
   ]
  },
  {
   "cell_type": "code",
   "execution_count": 5,
   "metadata": {},
   "outputs": [
    {
     "name": "stdout",
     "output_type": "stream",
     "text": [
      "Number of Columns dropped\t:  56\n",
      "\n",
      "Old dataset rows,columns (423810, 143) \n",
      "New dataset rows,columns (423810, 87)\n"
     ]
    }
   ],
   "source": [
    "df = removeNulls(df, axis =1,percent = 0.4) #remove columns"
   ]
  },
  {
   "cell_type": "code",
   "execution_count": 6,
   "metadata": {},
   "outputs": [
    {
     "data": {
      "text/html": [
       "<div>\n",
       "<style scoped>\n",
       "    .dataframe tbody tr th:only-of-type {\n",
       "        vertical-align: middle;\n",
       "    }\n",
       "\n",
       "    .dataframe tbody tr th {\n",
       "        vertical-align: top;\n",
       "    }\n",
       "\n",
       "    .dataframe thead th {\n",
       "        text-align: right;\n",
       "    }\n",
       "</style>\n",
       "<table border=\"1\" class=\"dataframe\">\n",
       "  <thead>\n",
       "    <tr style=\"text-align: right;\">\n",
       "      <th></th>\n",
       "      <th>count</th>\n",
       "      <th>mean</th>\n",
       "      <th>std</th>\n",
       "      <th>min</th>\n",
       "      <th>25%</th>\n",
       "      <th>50%</th>\n",
       "      <th>75%</th>\n",
       "      <th>max</th>\n",
       "    </tr>\n",
       "  </thead>\n",
       "  <tbody>\n",
       "    <tr>\n",
       "      <th>loan_amnt</th>\n",
       "      <td>423810.0</td>\n",
       "      <td>14641.033659</td>\n",
       "      <td>8300.162717</td>\n",
       "      <td>1.000000e+03</td>\n",
       "      <td>8000.000000</td>\n",
       "      <td>12800.00000</td>\n",
       "      <td>20000.00000</td>\n",
       "      <td>3.500000e+04</td>\n",
       "    </tr>\n",
       "    <tr>\n",
       "      <th>funded_amnt</th>\n",
       "      <td>423810.0</td>\n",
       "      <td>14639.914938</td>\n",
       "      <td>8299.264937</td>\n",
       "      <td>1.000000e+03</td>\n",
       "      <td>8000.000000</td>\n",
       "      <td>12800.00000</td>\n",
       "      <td>20000.00000</td>\n",
       "      <td>3.500000e+04</td>\n",
       "    </tr>\n",
       "    <tr>\n",
       "      <th>funded_amnt_inv</th>\n",
       "      <td>423810.0</td>\n",
       "      <td>14631.905082</td>\n",
       "      <td>8295.368633</td>\n",
       "      <td>9.500000e+02</td>\n",
       "      <td>8000.000000</td>\n",
       "      <td>12800.00000</td>\n",
       "      <td>20000.00000</td>\n",
       "      <td>3.500000e+04</td>\n",
       "    </tr>\n",
       "    <tr>\n",
       "      <th>installment</th>\n",
       "      <td>423810.0</td>\n",
       "      <td>443.022421</td>\n",
       "      <td>243.982683</td>\n",
       "      <td>4.930000e+00</td>\n",
       "      <td>267.600000</td>\n",
       "      <td>390.74000</td>\n",
       "      <td>578.68000</td>\n",
       "      <td>1.409990e+03</td>\n",
       "    </tr>\n",
       "    <tr>\n",
       "      <th>annual_inc</th>\n",
       "      <td>423810.0</td>\n",
       "      <td>73690.425184</td>\n",
       "      <td>53941.858610</td>\n",
       "      <td>3.000000e+03</td>\n",
       "      <td>45000.000000</td>\n",
       "      <td>63500.00000</td>\n",
       "      <td>90000.00000</td>\n",
       "      <td>7.500000e+06</td>\n",
       "    </tr>\n",
       "    <tr>\n",
       "      <th>dti</th>\n",
       "      <td>423810.0</td>\n",
       "      <td>17.605362</td>\n",
       "      <td>7.852101</td>\n",
       "      <td>0.000000e+00</td>\n",
       "      <td>11.710000</td>\n",
       "      <td>17.23000</td>\n",
       "      <td>23.23000</td>\n",
       "      <td>3.999000e+01</td>\n",
       "    </tr>\n",
       "    <tr>\n",
       "      <th>delinq_2yrs</th>\n",
       "      <td>423810.0</td>\n",
       "      <td>0.297940</td>\n",
       "      <td>0.819312</td>\n",
       "      <td>0.000000e+00</td>\n",
       "      <td>0.000000</td>\n",
       "      <td>0.00000</td>\n",
       "      <td>0.00000</td>\n",
       "      <td>2.900000e+01</td>\n",
       "    </tr>\n",
       "    <tr>\n",
       "      <th>inq_last_6mths</th>\n",
       "      <td>423810.0</td>\n",
       "      <td>0.777037</td>\n",
       "      <td>1.033789</td>\n",
       "      <td>0.000000e+00</td>\n",
       "      <td>0.000000</td>\n",
       "      <td>0.00000</td>\n",
       "      <td>1.00000</td>\n",
       "      <td>8.000000e+00</td>\n",
       "    </tr>\n",
       "    <tr>\n",
       "      <th>open_acc</th>\n",
       "      <td>423810.0</td>\n",
       "      <td>11.371803</td>\n",
       "      <td>4.996683</td>\n",
       "      <td>0.000000e+00</td>\n",
       "      <td>8.000000</td>\n",
       "      <td>11.00000</td>\n",
       "      <td>14.00000</td>\n",
       "      <td>8.400000e+01</td>\n",
       "    </tr>\n",
       "    <tr>\n",
       "      <th>pub_rec</th>\n",
       "      <td>423810.0</td>\n",
       "      <td>0.170843</td>\n",
       "      <td>0.529098</td>\n",
       "      <td>0.000000e+00</td>\n",
       "      <td>0.000000</td>\n",
       "      <td>0.00000</td>\n",
       "      <td>0.00000</td>\n",
       "      <td>6.300000e+01</td>\n",
       "    </tr>\n",
       "    <tr>\n",
       "      <th>revol_bal</th>\n",
       "      <td>423810.0</td>\n",
       "      <td>16423.862679</td>\n",
       "      <td>20525.688329</td>\n",
       "      <td>0.000000e+00</td>\n",
       "      <td>6683.000000</td>\n",
       "      <td>12030.00000</td>\n",
       "      <td>20594.00000</td>\n",
       "      <td>2.568995e+06</td>\n",
       "    </tr>\n",
       "    <tr>\n",
       "      <th>total_acc</th>\n",
       "      <td>423810.0</td>\n",
       "      <td>25.359281</td>\n",
       "      <td>11.559403</td>\n",
       "      <td>2.000000e+00</td>\n",
       "      <td>17.000000</td>\n",
       "      <td>24.00000</td>\n",
       "      <td>32.00000</td>\n",
       "      <td>1.560000e+02</td>\n",
       "    </tr>\n",
       "    <tr>\n",
       "      <th>out_prncp</th>\n",
       "      <td>423810.0</td>\n",
       "      <td>43.758032</td>\n",
       "      <td>345.104460</td>\n",
       "      <td>0.000000e+00</td>\n",
       "      <td>0.000000</td>\n",
       "      <td>0.00000</td>\n",
       "      <td>0.00000</td>\n",
       "      <td>9.591090e+03</td>\n",
       "    </tr>\n",
       "    <tr>\n",
       "      <th>out_prncp_inv</th>\n",
       "      <td>423810.0</td>\n",
       "      <td>43.750299</td>\n",
       "      <td>345.041002</td>\n",
       "      <td>0.000000e+00</td>\n",
       "      <td>0.000000</td>\n",
       "      <td>0.00000</td>\n",
       "      <td>0.00000</td>\n",
       "      <td>9.591090e+03</td>\n",
       "    </tr>\n",
       "    <tr>\n",
       "      <th>total_pymnt</th>\n",
       "      <td>423810.0</td>\n",
       "      <td>16457.422419</td>\n",
       "      <td>10799.366917</td>\n",
       "      <td>0.000000e+00</td>\n",
       "      <td>8253.838679</td>\n",
       "      <td>13826.85726</td>\n",
       "      <td>22436.16714</td>\n",
       "      <td>6.329688e+04</td>\n",
       "    </tr>\n",
       "    <tr>\n",
       "      <th>total_pymnt_inv</th>\n",
       "      <td>423810.0</td>\n",
       "      <td>16448.654449</td>\n",
       "      <td>10794.316221</td>\n",
       "      <td>0.000000e+00</td>\n",
       "      <td>8249.110000</td>\n",
       "      <td>13816.63000</td>\n",
       "      <td>22429.84750</td>\n",
       "      <td>6.329688e+04</td>\n",
       "    </tr>\n",
       "    <tr>\n",
       "      <th>total_rec_prncp</th>\n",
       "      <td>423810.0</td>\n",
       "      <td>12918.378660</td>\n",
       "      <td>8441.114564</td>\n",
       "      <td>0.000000e+00</td>\n",
       "      <td>6175.000000</td>\n",
       "      <td>11023.54000</td>\n",
       "      <td>18000.00000</td>\n",
       "      <td>3.500000e+04</td>\n",
       "    </tr>\n",
       "    <tr>\n",
       "      <th>total_rec_int</th>\n",
       "      <td>423810.0</td>\n",
       "      <td>3316.887797</td>\n",
       "      <td>3442.393289</td>\n",
       "      <td>0.000000e+00</td>\n",
       "      <td>1118.690000</td>\n",
       "      <td>2119.16500</td>\n",
       "      <td>4190.40500</td>\n",
       "      <td>2.819250e+04</td>\n",
       "    </tr>\n",
       "    <tr>\n",
       "      <th>total_rec_late_fee</th>\n",
       "      <td>423810.0</td>\n",
       "      <td>1.236767</td>\n",
       "      <td>9.231950</td>\n",
       "      <td>-5.000000e-10</td>\n",
       "      <td>0.000000</td>\n",
       "      <td>0.00000</td>\n",
       "      <td>0.00000</td>\n",
       "      <td>7.318400e+02</td>\n",
       "    </tr>\n",
       "    <tr>\n",
       "      <th>recoveries</th>\n",
       "      <td>423810.0</td>\n",
       "      <td>220.919188</td>\n",
       "      <td>915.980639</td>\n",
       "      <td>0.000000e+00</td>\n",
       "      <td>0.000000</td>\n",
       "      <td>0.00000</td>\n",
       "      <td>0.00000</td>\n",
       "      <td>3.944437e+04</td>\n",
       "    </tr>\n",
       "    <tr>\n",
       "      <th>collection_recovery_fee</th>\n",
       "      <td>423810.0</td>\n",
       "      <td>32.176853</td>\n",
       "      <td>152.270575</td>\n",
       "      <td>0.000000e+00</td>\n",
       "      <td>0.000000</td>\n",
       "      <td>0.00000</td>\n",
       "      <td>0.00000</td>\n",
       "      <td>6.124938e+03</td>\n",
       "    </tr>\n",
       "    <tr>\n",
       "      <th>last_pymnt_amnt</th>\n",
       "      <td>423810.0</td>\n",
       "      <td>4352.753288</td>\n",
       "      <td>6050.430132</td>\n",
       "      <td>0.000000e+00</td>\n",
       "      <td>368.670000</td>\n",
       "      <td>1052.15500</td>\n",
       "      <td>6482.55750</td>\n",
       "      <td>3.623444e+04</td>\n",
       "    </tr>\n",
       "    <tr>\n",
       "      <th>collections_12_mths_ex_med</th>\n",
       "      <td>423810.0</td>\n",
       "      <td>0.009993</td>\n",
       "      <td>0.113905</td>\n",
       "      <td>0.000000e+00</td>\n",
       "      <td>0.000000</td>\n",
       "      <td>0.00000</td>\n",
       "      <td>0.00000</td>\n",
       "      <td>2.000000e+01</td>\n",
       "    </tr>\n",
       "    <tr>\n",
       "      <th>policy_code</th>\n",
       "      <td>423810.0</td>\n",
       "      <td>1.000000</td>\n",
       "      <td>0.000000</td>\n",
       "      <td>1.000000e+00</td>\n",
       "      <td>1.000000</td>\n",
       "      <td>1.00000</td>\n",
       "      <td>1.00000</td>\n",
       "      <td>1.000000e+00</td>\n",
       "    </tr>\n",
       "    <tr>\n",
       "      <th>acc_now_delinq</th>\n",
       "      <td>423810.0</td>\n",
       "      <td>0.004393</td>\n",
       "      <td>0.071915</td>\n",
       "      <td>0.000000e+00</td>\n",
       "      <td>0.000000</td>\n",
       "      <td>0.00000</td>\n",
       "      <td>0.00000</td>\n",
       "      <td>5.000000e+00</td>\n",
       "    </tr>\n",
       "    <tr>\n",
       "      <th>tot_coll_amt</th>\n",
       "      <td>396069.0</td>\n",
       "      <td>191.892004</td>\n",
       "      <td>14629.106773</td>\n",
       "      <td>0.000000e+00</td>\n",
       "      <td>0.000000</td>\n",
       "      <td>0.00000</td>\n",
       "      <td>0.00000</td>\n",
       "      <td>9.152545e+06</td>\n",
       "    </tr>\n",
       "    <tr>\n",
       "      <th>tot_cur_bal</th>\n",
       "      <td>396069.0</td>\n",
       "      <td>138798.423161</td>\n",
       "      <td>152112.408288</td>\n",
       "      <td>0.000000e+00</td>\n",
       "      <td>28616.000000</td>\n",
       "      <td>81532.00000</td>\n",
       "      <td>208948.00000</td>\n",
       "      <td>8.000078e+06</td>\n",
       "    </tr>\n",
       "    <tr>\n",
       "      <th>total_rev_hi_lim</th>\n",
       "      <td>396069.0</td>\n",
       "      <td>30377.915891</td>\n",
       "      <td>37244.951562</td>\n",
       "      <td>0.000000e+00</td>\n",
       "      <td>13500.000000</td>\n",
       "      <td>22800.00000</td>\n",
       "      <td>37900.00000</td>\n",
       "      <td>9.999999e+06</td>\n",
       "    </tr>\n",
       "    <tr>\n",
       "      <th>acc_open_past_24mths</th>\n",
       "      <td>416315.0</td>\n",
       "      <td>4.198518</td>\n",
       "      <td>2.786825</td>\n",
       "      <td>0.000000e+00</td>\n",
       "      <td>2.000000</td>\n",
       "      <td>4.00000</td>\n",
       "      <td>6.00000</td>\n",
       "      <td>5.300000e+01</td>\n",
       "    </tr>\n",
       "    <tr>\n",
       "      <th>avg_cur_bal</th>\n",
       "      <td>396057.0</td>\n",
       "      <td>13568.446655</td>\n",
       "      <td>16166.756429</td>\n",
       "      <td>0.000000e+00</td>\n",
       "      <td>3070.000000</td>\n",
       "      <td>7619.00000</td>\n",
       "      <td>19106.00000</td>\n",
       "      <td>9.580840e+05</td>\n",
       "    </tr>\n",
       "    <tr>\n",
       "      <th>...</th>\n",
       "      <td>...</td>\n",
       "      <td>...</td>\n",
       "      <td>...</td>\n",
       "      <td>...</td>\n",
       "      <td>...</td>\n",
       "      <td>...</td>\n",
       "      <td>...</td>\n",
       "      <td>...</td>\n",
       "    </tr>\n",
       "    <tr>\n",
       "      <th>mo_sin_old_il_acct</th>\n",
       "      <td>382767.0</td>\n",
       "      <td>127.139834</td>\n",
       "      <td>51.135332</td>\n",
       "      <td>0.000000e+00</td>\n",
       "      <td>98.000000</td>\n",
       "      <td>130.00000</td>\n",
       "      <td>153.00000</td>\n",
       "      <td>6.490000e+02</td>\n",
       "    </tr>\n",
       "    <tr>\n",
       "      <th>mo_sin_old_rev_tl_op</th>\n",
       "      <td>396068.0</td>\n",
       "      <td>182.807685</td>\n",
       "      <td>91.135417</td>\n",
       "      <td>3.000000e+00</td>\n",
       "      <td>118.000000</td>\n",
       "      <td>165.00000</td>\n",
       "      <td>229.00000</td>\n",
       "      <td>8.420000e+02</td>\n",
       "    </tr>\n",
       "    <tr>\n",
       "      <th>mo_sin_rcnt_rev_tl_op</th>\n",
       "      <td>396068.0</td>\n",
       "      <td>13.490901</td>\n",
       "      <td>16.135229</td>\n",
       "      <td>0.000000e+00</td>\n",
       "      <td>4.000000</td>\n",
       "      <td>8.00000</td>\n",
       "      <td>16.00000</td>\n",
       "      <td>3.720000e+02</td>\n",
       "    </tr>\n",
       "    <tr>\n",
       "      <th>mo_sin_rcnt_tl</th>\n",
       "      <td>396069.0</td>\n",
       "      <td>8.378527</td>\n",
       "      <td>9.150488</td>\n",
       "      <td>0.000000e+00</td>\n",
       "      <td>3.000000</td>\n",
       "      <td>6.00000</td>\n",
       "      <td>10.00000</td>\n",
       "      <td>2.260000e+02</td>\n",
       "    </tr>\n",
       "    <tr>\n",
       "      <th>mort_acc</th>\n",
       "      <td>416315.0</td>\n",
       "      <td>1.833746</td>\n",
       "      <td>2.175355</td>\n",
       "      <td>0.000000e+00</td>\n",
       "      <td>0.000000</td>\n",
       "      <td>1.00000</td>\n",
       "      <td>3.00000</td>\n",
       "      <td>3.700000e+01</td>\n",
       "    </tr>\n",
       "    <tr>\n",
       "      <th>mths_since_recent_bc</th>\n",
       "      <td>412736.0</td>\n",
       "      <td>24.972883</td>\n",
       "      <td>29.954107</td>\n",
       "      <td>0.000000e+00</td>\n",
       "      <td>6.000000</td>\n",
       "      <td>14.00000</td>\n",
       "      <td>31.00000</td>\n",
       "      <td>6.160000e+02</td>\n",
       "    </tr>\n",
       "    <tr>\n",
       "      <th>mths_since_recent_inq</th>\n",
       "      <td>374250.0</td>\n",
       "      <td>6.950787</td>\n",
       "      <td>5.909480</td>\n",
       "      <td>0.000000e+00</td>\n",
       "      <td>2.000000</td>\n",
       "      <td>5.00000</td>\n",
       "      <td>10.00000</td>\n",
       "      <td>2.500000e+01</td>\n",
       "    </tr>\n",
       "    <tr>\n",
       "      <th>num_accts_ever_120_pd</th>\n",
       "      <td>396069.0</td>\n",
       "      <td>0.432967</td>\n",
       "      <td>1.151378</td>\n",
       "      <td>0.000000e+00</td>\n",
       "      <td>0.000000</td>\n",
       "      <td>0.00000</td>\n",
       "      <td>0.00000</td>\n",
       "      <td>3.300000e+01</td>\n",
       "    </tr>\n",
       "    <tr>\n",
       "      <th>num_actv_bc_tl</th>\n",
       "      <td>396069.0</td>\n",
       "      <td>3.714888</td>\n",
       "      <td>2.125658</td>\n",
       "      <td>0.000000e+00</td>\n",
       "      <td>2.000000</td>\n",
       "      <td>3.00000</td>\n",
       "      <td>5.00000</td>\n",
       "      <td>3.000000e+01</td>\n",
       "    </tr>\n",
       "    <tr>\n",
       "      <th>num_actv_rev_tl</th>\n",
       "      <td>396069.0</td>\n",
       "      <td>5.752424</td>\n",
       "      <td>3.053944</td>\n",
       "      <td>0.000000e+00</td>\n",
       "      <td>4.000000</td>\n",
       "      <td>5.00000</td>\n",
       "      <td>7.00000</td>\n",
       "      <td>3.800000e+01</td>\n",
       "    </tr>\n",
       "    <tr>\n",
       "      <th>num_bc_sats</th>\n",
       "      <td>407755.0</td>\n",
       "      <td>4.655367</td>\n",
       "      <td>2.626527</td>\n",
       "      <td>0.000000e+00</td>\n",
       "      <td>3.000000</td>\n",
       "      <td>4.00000</td>\n",
       "      <td>6.00000</td>\n",
       "      <td>3.500000e+01</td>\n",
       "    </tr>\n",
       "    <tr>\n",
       "      <th>num_bc_tl</th>\n",
       "      <td>396069.0</td>\n",
       "      <td>8.736410</td>\n",
       "      <td>4.821984</td>\n",
       "      <td>0.000000e+00</td>\n",
       "      <td>5.000000</td>\n",
       "      <td>8.00000</td>\n",
       "      <td>11.00000</td>\n",
       "      <td>6.500000e+01</td>\n",
       "    </tr>\n",
       "    <tr>\n",
       "      <th>num_il_tl</th>\n",
       "      <td>396069.0</td>\n",
       "      <td>8.230021</td>\n",
       "      <td>7.030659</td>\n",
       "      <td>0.000000e+00</td>\n",
       "      <td>3.000000</td>\n",
       "      <td>6.00000</td>\n",
       "      <td>11.00000</td>\n",
       "      <td>1.500000e+02</td>\n",
       "    </tr>\n",
       "    <tr>\n",
       "      <th>num_op_rev_tl</th>\n",
       "      <td>396069.0</td>\n",
       "      <td>8.202813</td>\n",
       "      <td>4.150591</td>\n",
       "      <td>0.000000e+00</td>\n",
       "      <td>5.000000</td>\n",
       "      <td>7.00000</td>\n",
       "      <td>10.00000</td>\n",
       "      <td>6.200000e+01</td>\n",
       "    </tr>\n",
       "    <tr>\n",
       "      <th>num_rev_accts</th>\n",
       "      <td>396069.0</td>\n",
       "      <td>15.157579</td>\n",
       "      <td>7.792164</td>\n",
       "      <td>0.000000e+00</td>\n",
       "      <td>10.000000</td>\n",
       "      <td>14.00000</td>\n",
       "      <td>19.00000</td>\n",
       "      <td>1.050000e+02</td>\n",
       "    </tr>\n",
       "    <tr>\n",
       "      <th>num_rev_tl_bal_gt_0</th>\n",
       "      <td>396069.0</td>\n",
       "      <td>5.738705</td>\n",
       "      <td>3.044308</td>\n",
       "      <td>0.000000e+00</td>\n",
       "      <td>4.000000</td>\n",
       "      <td>5.00000</td>\n",
       "      <td>7.00000</td>\n",
       "      <td>3.800000e+01</td>\n",
       "    </tr>\n",
       "    <tr>\n",
       "      <th>num_sats</th>\n",
       "      <td>407755.0</td>\n",
       "      <td>11.393636</td>\n",
       "      <td>5.011455</td>\n",
       "      <td>0.000000e+00</td>\n",
       "      <td>8.000000</td>\n",
       "      <td>11.00000</td>\n",
       "      <td>14.00000</td>\n",
       "      <td>8.400000e+01</td>\n",
       "    </tr>\n",
       "    <tr>\n",
       "      <th>num_tl_120dpd_2m</th>\n",
       "      <td>387953.0</td>\n",
       "      <td>0.000763</td>\n",
       "      <td>0.028620</td>\n",
       "      <td>0.000000e+00</td>\n",
       "      <td>0.000000</td>\n",
       "      <td>0.00000</td>\n",
       "      <td>0.00000</td>\n",
       "      <td>2.000000e+00</td>\n",
       "    </tr>\n",
       "    <tr>\n",
       "      <th>num_tl_30dpd</th>\n",
       "      <td>396069.0</td>\n",
       "      <td>0.003030</td>\n",
       "      <td>0.059291</td>\n",
       "      <td>0.000000e+00</td>\n",
       "      <td>0.000000</td>\n",
       "      <td>0.00000</td>\n",
       "      <td>0.00000</td>\n",
       "      <td>4.000000e+00</td>\n",
       "    </tr>\n",
       "    <tr>\n",
       "      <th>num_tl_90g_dpd_24m</th>\n",
       "      <td>396069.0</td>\n",
       "      <td>0.082087</td>\n",
       "      <td>0.445368</td>\n",
       "      <td>0.000000e+00</td>\n",
       "      <td>0.000000</td>\n",
       "      <td>0.00000</td>\n",
       "      <td>0.00000</td>\n",
       "      <td>2.400000e+01</td>\n",
       "    </tr>\n",
       "    <tr>\n",
       "      <th>num_tl_op_past_12m</th>\n",
       "      <td>396069.0</td>\n",
       "      <td>1.918229</td>\n",
       "      <td>1.573405</td>\n",
       "      <td>0.000000e+00</td>\n",
       "      <td>1.000000</td>\n",
       "      <td>2.00000</td>\n",
       "      <td>3.00000</td>\n",
       "      <td>2.600000e+01</td>\n",
       "    </tr>\n",
       "    <tr>\n",
       "      <th>pct_tl_nvr_dlq</th>\n",
       "      <td>395916.0</td>\n",
       "      <td>94.709385</td>\n",
       "      <td>8.066579</td>\n",
       "      <td>1.500000e+01</td>\n",
       "      <td>92.000000</td>\n",
       "      <td>100.00000</td>\n",
       "      <td>100.00000</td>\n",
       "      <td>1.000000e+02</td>\n",
       "    </tr>\n",
       "    <tr>\n",
       "      <th>percent_bc_gt_75</th>\n",
       "      <td>412225.0</td>\n",
       "      <td>51.981753</td>\n",
       "      <td>34.611762</td>\n",
       "      <td>0.000000e+00</td>\n",
       "      <td>25.000000</td>\n",
       "      <td>50.00000</td>\n",
       "      <td>80.00000</td>\n",
       "      <td>1.000000e+02</td>\n",
       "    </tr>\n",
       "    <tr>\n",
       "      <th>pub_rec_bankruptcies</th>\n",
       "      <td>423810.0</td>\n",
       "      <td>0.112633</td>\n",
       "      <td>0.341710</td>\n",
       "      <td>0.000000e+00</td>\n",
       "      <td>0.000000</td>\n",
       "      <td>0.00000</td>\n",
       "      <td>0.00000</td>\n",
       "      <td>1.200000e+01</td>\n",
       "    </tr>\n",
       "    <tr>\n",
       "      <th>tax_liens</th>\n",
       "      <td>423810.0</td>\n",
       "      <td>0.037234</td>\n",
       "      <td>0.345624</td>\n",
       "      <td>0.000000e+00</td>\n",
       "      <td>0.000000</td>\n",
       "      <td>0.00000</td>\n",
       "      <td>0.00000</td>\n",
       "      <td>6.300000e+01</td>\n",
       "    </tr>\n",
       "    <tr>\n",
       "      <th>tot_hi_cred_lim</th>\n",
       "      <td>396069.0</td>\n",
       "      <td>168343.610800</td>\n",
       "      <td>170106.295829</td>\n",
       "      <td>0.000000e+00</td>\n",
       "      <td>46544.000000</td>\n",
       "      <td>110418.00000</td>\n",
       "      <td>245958.00000</td>\n",
       "      <td>9.999999e+06</td>\n",
       "    </tr>\n",
       "    <tr>\n",
       "      <th>total_bal_ex_mort</th>\n",
       "      <td>416315.0</td>\n",
       "      <td>45999.906554</td>\n",
       "      <td>43633.877208</td>\n",
       "      <td>0.000000e+00</td>\n",
       "      <td>19898.000000</td>\n",
       "      <td>34987.00000</td>\n",
       "      <td>57718.50000</td>\n",
       "      <td>2.688920e+06</td>\n",
       "    </tr>\n",
       "    <tr>\n",
       "      <th>total_bc_limit</th>\n",
       "      <td>416315.0</td>\n",
       "      <td>20121.276041</td>\n",
       "      <td>19645.551827</td>\n",
       "      <td>0.000000e+00</td>\n",
       "      <td>7400.000000</td>\n",
       "      <td>14200.00000</td>\n",
       "      <td>26300.00000</td>\n",
       "      <td>1.090700e+06</td>\n",
       "    </tr>\n",
       "    <tr>\n",
       "      <th>total_il_high_credit_limit</th>\n",
       "      <td>396069.0</td>\n",
       "      <td>37657.943187</td>\n",
       "      <td>39742.334157</td>\n",
       "      <td>0.000000e+00</td>\n",
       "      <td>12060.000000</td>\n",
       "      <td>28258.00000</td>\n",
       "      <td>50925.00000</td>\n",
       "      <td>1.241783e+06</td>\n",
       "    </tr>\n",
       "    <tr>\n",
       "      <th>months</th>\n",
       "      <td>423517.0</td>\n",
       "      <td>27.219316</td>\n",
       "      <td>14.257059</td>\n",
       "      <td>0.000000e+00</td>\n",
       "      <td>16.000000</td>\n",
       "      <td>28.00000</td>\n",
       "      <td>37.00000</td>\n",
       "      <td>6.800000e+01</td>\n",
       "    </tr>\n",
       "  </tbody>\n",
       "</table>\n",
       "<p>64 rows × 8 columns</p>\n",
       "</div>"
      ],
      "text/plain": [
       "                               count           mean            std  \\\n",
       "loan_amnt                   423810.0   14641.033659    8300.162717   \n",
       "funded_amnt                 423810.0   14639.914938    8299.264937   \n",
       "funded_amnt_inv             423810.0   14631.905082    8295.368633   \n",
       "installment                 423810.0     443.022421     243.982683   \n",
       "annual_inc                  423810.0   73690.425184   53941.858610   \n",
       "dti                         423810.0      17.605362       7.852101   \n",
       "delinq_2yrs                 423810.0       0.297940       0.819312   \n",
       "inq_last_6mths              423810.0       0.777037       1.033789   \n",
       "open_acc                    423810.0      11.371803       4.996683   \n",
       "pub_rec                     423810.0       0.170843       0.529098   \n",
       "revol_bal                   423810.0   16423.862679   20525.688329   \n",
       "total_acc                   423810.0      25.359281      11.559403   \n",
       "out_prncp                   423810.0      43.758032     345.104460   \n",
       "out_prncp_inv               423810.0      43.750299     345.041002   \n",
       "total_pymnt                 423810.0   16457.422419   10799.366917   \n",
       "total_pymnt_inv             423810.0   16448.654449   10794.316221   \n",
       "total_rec_prncp             423810.0   12918.378660    8441.114564   \n",
       "total_rec_int               423810.0    3316.887797    3442.393289   \n",
       "total_rec_late_fee          423810.0       1.236767       9.231950   \n",
       "recoveries                  423810.0     220.919188     915.980639   \n",
       "collection_recovery_fee     423810.0      32.176853     152.270575   \n",
       "last_pymnt_amnt             423810.0    4352.753288    6050.430132   \n",
       "collections_12_mths_ex_med  423810.0       0.009993       0.113905   \n",
       "policy_code                 423810.0       1.000000       0.000000   \n",
       "acc_now_delinq              423810.0       0.004393       0.071915   \n",
       "tot_coll_amt                396069.0     191.892004   14629.106773   \n",
       "tot_cur_bal                 396069.0  138798.423161  152112.408288   \n",
       "total_rev_hi_lim            396069.0   30377.915891   37244.951562   \n",
       "acc_open_past_24mths        416315.0       4.198518       2.786825   \n",
       "avg_cur_bal                 396057.0   13568.446655   16166.756429   \n",
       "...                              ...            ...            ...   \n",
       "mo_sin_old_il_acct          382767.0     127.139834      51.135332   \n",
       "mo_sin_old_rev_tl_op        396068.0     182.807685      91.135417   \n",
       "mo_sin_rcnt_rev_tl_op       396068.0      13.490901      16.135229   \n",
       "mo_sin_rcnt_tl              396069.0       8.378527       9.150488   \n",
       "mort_acc                    416315.0       1.833746       2.175355   \n",
       "mths_since_recent_bc        412736.0      24.972883      29.954107   \n",
       "mths_since_recent_inq       374250.0       6.950787       5.909480   \n",
       "num_accts_ever_120_pd       396069.0       0.432967       1.151378   \n",
       "num_actv_bc_tl              396069.0       3.714888       2.125658   \n",
       "num_actv_rev_tl             396069.0       5.752424       3.053944   \n",
       "num_bc_sats                 407755.0       4.655367       2.626527   \n",
       "num_bc_tl                   396069.0       8.736410       4.821984   \n",
       "num_il_tl                   396069.0       8.230021       7.030659   \n",
       "num_op_rev_tl               396069.0       8.202813       4.150591   \n",
       "num_rev_accts               396069.0      15.157579       7.792164   \n",
       "num_rev_tl_bal_gt_0         396069.0       5.738705       3.044308   \n",
       "num_sats                    407755.0      11.393636       5.011455   \n",
       "num_tl_120dpd_2m            387953.0       0.000763       0.028620   \n",
       "num_tl_30dpd                396069.0       0.003030       0.059291   \n",
       "num_tl_90g_dpd_24m          396069.0       0.082087       0.445368   \n",
       "num_tl_op_past_12m          396069.0       1.918229       1.573405   \n",
       "pct_tl_nvr_dlq              395916.0      94.709385       8.066579   \n",
       "percent_bc_gt_75            412225.0      51.981753      34.611762   \n",
       "pub_rec_bankruptcies        423810.0       0.112633       0.341710   \n",
       "tax_liens                   423810.0       0.037234       0.345624   \n",
       "tot_hi_cred_lim             396069.0  168343.610800  170106.295829   \n",
       "total_bal_ex_mort           416315.0   45999.906554   43633.877208   \n",
       "total_bc_limit              416315.0   20121.276041   19645.551827   \n",
       "total_il_high_credit_limit  396069.0   37657.943187   39742.334157   \n",
       "months                      423517.0      27.219316      14.257059   \n",
       "\n",
       "                                     min           25%           50%  \\\n",
       "loan_amnt                   1.000000e+03   8000.000000   12800.00000   \n",
       "funded_amnt                 1.000000e+03   8000.000000   12800.00000   \n",
       "funded_amnt_inv             9.500000e+02   8000.000000   12800.00000   \n",
       "installment                 4.930000e+00    267.600000     390.74000   \n",
       "annual_inc                  3.000000e+03  45000.000000   63500.00000   \n",
       "dti                         0.000000e+00     11.710000      17.23000   \n",
       "delinq_2yrs                 0.000000e+00      0.000000       0.00000   \n",
       "inq_last_6mths              0.000000e+00      0.000000       0.00000   \n",
       "open_acc                    0.000000e+00      8.000000      11.00000   \n",
       "pub_rec                     0.000000e+00      0.000000       0.00000   \n",
       "revol_bal                   0.000000e+00   6683.000000   12030.00000   \n",
       "total_acc                   2.000000e+00     17.000000      24.00000   \n",
       "out_prncp                   0.000000e+00      0.000000       0.00000   \n",
       "out_prncp_inv               0.000000e+00      0.000000       0.00000   \n",
       "total_pymnt                 0.000000e+00   8253.838679   13826.85726   \n",
       "total_pymnt_inv             0.000000e+00   8249.110000   13816.63000   \n",
       "total_rec_prncp             0.000000e+00   6175.000000   11023.54000   \n",
       "total_rec_int               0.000000e+00   1118.690000    2119.16500   \n",
       "total_rec_late_fee         -5.000000e-10      0.000000       0.00000   \n",
       "recoveries                  0.000000e+00      0.000000       0.00000   \n",
       "collection_recovery_fee     0.000000e+00      0.000000       0.00000   \n",
       "last_pymnt_amnt             0.000000e+00    368.670000    1052.15500   \n",
       "collections_12_mths_ex_med  0.000000e+00      0.000000       0.00000   \n",
       "policy_code                 1.000000e+00      1.000000       1.00000   \n",
       "acc_now_delinq              0.000000e+00      0.000000       0.00000   \n",
       "tot_coll_amt                0.000000e+00      0.000000       0.00000   \n",
       "tot_cur_bal                 0.000000e+00  28616.000000   81532.00000   \n",
       "total_rev_hi_lim            0.000000e+00  13500.000000   22800.00000   \n",
       "acc_open_past_24mths        0.000000e+00      2.000000       4.00000   \n",
       "avg_cur_bal                 0.000000e+00   3070.000000    7619.00000   \n",
       "...                                  ...           ...           ...   \n",
       "mo_sin_old_il_acct          0.000000e+00     98.000000     130.00000   \n",
       "mo_sin_old_rev_tl_op        3.000000e+00    118.000000     165.00000   \n",
       "mo_sin_rcnt_rev_tl_op       0.000000e+00      4.000000       8.00000   \n",
       "mo_sin_rcnt_tl              0.000000e+00      3.000000       6.00000   \n",
       "mort_acc                    0.000000e+00      0.000000       1.00000   \n",
       "mths_since_recent_bc        0.000000e+00      6.000000      14.00000   \n",
       "mths_since_recent_inq       0.000000e+00      2.000000       5.00000   \n",
       "num_accts_ever_120_pd       0.000000e+00      0.000000       0.00000   \n",
       "num_actv_bc_tl              0.000000e+00      2.000000       3.00000   \n",
       "num_actv_rev_tl             0.000000e+00      4.000000       5.00000   \n",
       "num_bc_sats                 0.000000e+00      3.000000       4.00000   \n",
       "num_bc_tl                   0.000000e+00      5.000000       8.00000   \n",
       "num_il_tl                   0.000000e+00      3.000000       6.00000   \n",
       "num_op_rev_tl               0.000000e+00      5.000000       7.00000   \n",
       "num_rev_accts               0.000000e+00     10.000000      14.00000   \n",
       "num_rev_tl_bal_gt_0         0.000000e+00      4.000000       5.00000   \n",
       "num_sats                    0.000000e+00      8.000000      11.00000   \n",
       "num_tl_120dpd_2m            0.000000e+00      0.000000       0.00000   \n",
       "num_tl_30dpd                0.000000e+00      0.000000       0.00000   \n",
       "num_tl_90g_dpd_24m          0.000000e+00      0.000000       0.00000   \n",
       "num_tl_op_past_12m          0.000000e+00      1.000000       2.00000   \n",
       "pct_tl_nvr_dlq              1.500000e+01     92.000000     100.00000   \n",
       "percent_bc_gt_75            0.000000e+00     25.000000      50.00000   \n",
       "pub_rec_bankruptcies        0.000000e+00      0.000000       0.00000   \n",
       "tax_liens                   0.000000e+00      0.000000       0.00000   \n",
       "tot_hi_cred_lim             0.000000e+00  46544.000000  110418.00000   \n",
       "total_bal_ex_mort           0.000000e+00  19898.000000   34987.00000   \n",
       "total_bc_limit              0.000000e+00   7400.000000   14200.00000   \n",
       "total_il_high_credit_limit  0.000000e+00  12060.000000   28258.00000   \n",
       "months                      0.000000e+00     16.000000      28.00000   \n",
       "\n",
       "                                     75%           max  \n",
       "loan_amnt                    20000.00000  3.500000e+04  \n",
       "funded_amnt                  20000.00000  3.500000e+04  \n",
       "funded_amnt_inv              20000.00000  3.500000e+04  \n",
       "installment                    578.68000  1.409990e+03  \n",
       "annual_inc                   90000.00000  7.500000e+06  \n",
       "dti                             23.23000  3.999000e+01  \n",
       "delinq_2yrs                      0.00000  2.900000e+01  \n",
       "inq_last_6mths                   1.00000  8.000000e+00  \n",
       "open_acc                        14.00000  8.400000e+01  \n",
       "pub_rec                          0.00000  6.300000e+01  \n",
       "revol_bal                    20594.00000  2.568995e+06  \n",
       "total_acc                       32.00000  1.560000e+02  \n",
       "out_prncp                        0.00000  9.591090e+03  \n",
       "out_prncp_inv                    0.00000  9.591090e+03  \n",
       "total_pymnt                  22436.16714  6.329688e+04  \n",
       "total_pymnt_inv              22429.84750  6.329688e+04  \n",
       "total_rec_prncp              18000.00000  3.500000e+04  \n",
       "total_rec_int                 4190.40500  2.819250e+04  \n",
       "total_rec_late_fee               0.00000  7.318400e+02  \n",
       "recoveries                       0.00000  3.944437e+04  \n",
       "collection_recovery_fee          0.00000  6.124938e+03  \n",
       "last_pymnt_amnt               6482.55750  3.623444e+04  \n",
       "collections_12_mths_ex_med       0.00000  2.000000e+01  \n",
       "policy_code                      1.00000  1.000000e+00  \n",
       "acc_now_delinq                   0.00000  5.000000e+00  \n",
       "tot_coll_amt                     0.00000  9.152545e+06  \n",
       "tot_cur_bal                 208948.00000  8.000078e+06  \n",
       "total_rev_hi_lim             37900.00000  9.999999e+06  \n",
       "acc_open_past_24mths             6.00000  5.300000e+01  \n",
       "avg_cur_bal                  19106.00000  9.580840e+05  \n",
       "...                                  ...           ...  \n",
       "mo_sin_old_il_acct             153.00000  6.490000e+02  \n",
       "mo_sin_old_rev_tl_op           229.00000  8.420000e+02  \n",
       "mo_sin_rcnt_rev_tl_op           16.00000  3.720000e+02  \n",
       "mo_sin_rcnt_tl                  10.00000  2.260000e+02  \n",
       "mort_acc                         3.00000  3.700000e+01  \n",
       "mths_since_recent_bc            31.00000  6.160000e+02  \n",
       "mths_since_recent_inq           10.00000  2.500000e+01  \n",
       "num_accts_ever_120_pd            0.00000  3.300000e+01  \n",
       "num_actv_bc_tl                   5.00000  3.000000e+01  \n",
       "num_actv_rev_tl                  7.00000  3.800000e+01  \n",
       "num_bc_sats                      6.00000  3.500000e+01  \n",
       "num_bc_tl                       11.00000  6.500000e+01  \n",
       "num_il_tl                       11.00000  1.500000e+02  \n",
       "num_op_rev_tl                   10.00000  6.200000e+01  \n",
       "num_rev_accts                   19.00000  1.050000e+02  \n",
       "num_rev_tl_bal_gt_0              7.00000  3.800000e+01  \n",
       "num_sats                        14.00000  8.400000e+01  \n",
       "num_tl_120dpd_2m                 0.00000  2.000000e+00  \n",
       "num_tl_30dpd                     0.00000  4.000000e+00  \n",
       "num_tl_90g_dpd_24m               0.00000  2.400000e+01  \n",
       "num_tl_op_past_12m               3.00000  2.600000e+01  \n",
       "pct_tl_nvr_dlq                 100.00000  1.000000e+02  \n",
       "percent_bc_gt_75                80.00000  1.000000e+02  \n",
       "pub_rec_bankruptcies             0.00000  1.200000e+01  \n",
       "tax_liens                        0.00000  6.300000e+01  \n",
       "tot_hi_cred_lim             245958.00000  9.999999e+06  \n",
       "total_bal_ex_mort            57718.50000  2.688920e+06  \n",
       "total_bc_limit               26300.00000  1.090700e+06  \n",
       "total_il_high_credit_limit   50925.00000  1.241783e+06  \n",
       "months                          37.00000  6.800000e+01  \n",
       "\n",
       "[64 rows x 8 columns]"
      ]
     },
     "execution_count": 6,
     "metadata": {},
     "output_type": "execute_result"
    }
   ],
   "source": [
    "df.describe().T"
   ]
  },
  {
   "cell_type": "markdown",
   "metadata": {},
   "source": [
    "The mean loan amount funded by the investors was around 14,700 USD and it deviates by 8300.16 which implies that the range of loans amount is widely distributed. Moreover, we can see that the Debt-to-Income (DTI) ratio of borrowers is relatively high that's why some borrowers have high interest rate which can be seen as a possible factor why they charge off their loans."
   ]
  },
  {
   "cell_type": "code",
   "execution_count": 7,
   "metadata": {},
   "outputs": [
    {
     "name": "stdout",
     "output_type": "stream",
     "text": [
      "So now we are left with (423810, 85) rows & columns.\n"
     ]
    }
   ],
   "source": [
    "#Remove columns with 1 unique value\n",
    "unique = df.nunique()\n",
    "unique = unique[unique.values == 1]\n",
    "df.drop(labels = list(unique.index), axis =1, inplace=True)\n",
    "print(\"So now we are left with\",df.shape ,\"rows & columns.\")\n"
   ]
  },
  {
   "cell_type": "code",
   "execution_count": 8,
   "metadata": {},
   "outputs": [
    {
     "name": "stdout",
     "output_type": "stream",
     "text": [
      "['3 years' '10+ years' '5 years' '6 years' '4 years' '1 year' '2 years'\n",
      " '7 years' '9 years' '8 years' '< 1 year' nan]\n"
     ]
    },
    {
     "data": {
      "text/plain": [
       "8-10 years    178059\n",
       "0-3 years     146006\n",
       "4-7 years      99745\n",
       "Name: emp_length, dtype: int64"
      ]
     },
     "execution_count": 8,
     "metadata": {},
     "output_type": "execute_result"
    }
   ],
   "source": [
    "print(df.emp_length.unique()) #We observed that 1 year has two unique counts so we replace them\n",
    "df.emp_length.fillna('0',inplace=True)\n",
    "#df.emp_length.replace(' 1 year', '1 year', inplace = True)\n",
    "df.emp_length.replace('0','< 1 year', inplace = True)\n",
    "df.emp_length.replace('< 1 year','0-3 years', inplace = True)\n",
    "df.emp_length.replace('1 year','0-3 years', inplace = True)\n",
    "df.emp_length.replace('2 years','0-3 years', inplace = True)\n",
    "df.emp_length.replace('3 years','0-3 years', inplace = True)\n",
    "df.emp_length.replace('4 years','4-7 years', inplace = True)\n",
    "df.emp_length.replace('5 years','4-7 years', inplace = True)\n",
    "df.emp_length.replace('6 years','4-7 years', inplace = True)\n",
    "df.emp_length.replace('7 years','4-7 years', inplace = True)\n",
    "df.emp_length.replace('8 years','8-10 years', inplace = True)\n",
    "df.emp_length.replace('9 years','8-10 years', inplace = True)\n",
    "df.emp_length.replace('10+ years','8-10 years', inplace = True)\n",
    "df.emp_length.value_counts()\n"
   ]
  },
  {
   "cell_type": "code",
   "execution_count": 9,
   "metadata": {},
   "outputs": [],
   "source": [
    "df.to_csv('lcdata2.csv')"
   ]
  },
  {
   "cell_type": "code",
   "execution_count": 10,
   "metadata": {},
   "outputs": [
    {
     "data": {
      "text/plain": [
       "Index(['Unnamed: 0', 'loan_amnt', 'funded_amnt', 'funded_amnt_inv', 'term',\n",
       "       'int_rate', 'installment', 'grade', 'sub_grade', 'emp_title',\n",
       "       'emp_length', 'home_ownership', 'annual_inc', 'verification_status',\n",
       "       'issue_d', 'loan_status', 'pymnt_plan', 'purpose', 'title', 'zip_code',\n",
       "       'addr_state', 'dti', 'delinq_2yrs', 'earliest_cr_line',\n",
       "       'inq_last_6mths', 'open_acc', 'pub_rec', 'revol_bal', 'revol_util',\n",
       "       'total_acc', 'initial_list_status', 'out_prncp', 'out_prncp_inv',\n",
       "       'total_pymnt', 'total_pymnt_inv', 'total_rec_prncp', 'total_rec_int',\n",
       "       'total_rec_late_fee', 'recoveries', 'collection_recovery_fee',\n",
       "       'last_pymnt_d', 'last_pymnt_amnt', 'last_credit_pull_d',\n",
       "       'collections_12_mths_ex_med', 'acc_now_delinq', 'tot_coll_amt',\n",
       "       'tot_cur_bal', 'total_rev_hi_lim', 'acc_open_past_24mths',\n",
       "       'avg_cur_bal', 'bc_open_to_buy', 'bc_util', 'chargeoff_within_12_mths',\n",
       "       'delinq_amnt', 'mo_sin_old_il_acct', 'mo_sin_old_rev_tl_op',\n",
       "       'mo_sin_rcnt_rev_tl_op', 'mo_sin_rcnt_tl', 'mort_acc',\n",
       "       'mths_since_recent_bc', 'mths_since_recent_inq',\n",
       "       'num_accts_ever_120_pd', 'num_actv_bc_tl', 'num_actv_rev_tl',\n",
       "       'num_bc_sats', 'num_bc_tl', 'num_il_tl', 'num_op_rev_tl',\n",
       "       'num_rev_accts', 'num_rev_tl_bal_gt_0', 'num_sats', 'num_tl_120dpd_2m',\n",
       "       'num_tl_30dpd', 'num_tl_90g_dpd_24m', 'num_tl_op_past_12m',\n",
       "       'pct_tl_nvr_dlq', 'percent_bc_gt_75', 'pub_rec_bankruptcies',\n",
       "       'tax_liens', 'tot_hi_cred_lim', 'total_bal_ex_mort', 'total_bc_limit',\n",
       "       'total_il_high_credit_limit', 'hardship_flag', 'debt_settlement_flag',\n",
       "       'months'],\n",
       "      dtype='object')"
      ]
     },
     "execution_count": 10,
     "metadata": {},
     "output_type": "execute_result"
    }
   ],
   "source": [
    "df2 = pd.read_csv('lcdata2.csv')\n",
    "df2.columns"
   ]
  },
  {
   "cell_type": "code",
   "execution_count": 11,
   "metadata": {},
   "outputs": [
    {
     "name": "stdout",
     "output_type": "stream",
     "text": [
      "(423810, 86)\n"
     ]
    }
   ],
   "source": [
    "print(df2.shape)"
   ]
  },
  {
   "cell_type": "markdown",
   "metadata": {},
   "source": [
    "After removing the columns which have a great number of missing values, we are now down to 400,000 plus rows and 85 columns. We will now change the values for each columns, try to bin some columns and removing irrelevant columns\n",
    "\n",
    "**How I decide to remove the irrelevant columns**\n",
    "1. Leaks info from the future (after the loan has being funded)\n",
    "2. Doesn't affect borrower's ability to pay for the loan\n",
    "3. Contains redundant info\n",
    "\n",
    "We want to be careful about these criteria since it might affect our analysis in the long run. We need to be sure that the data we will use for training is at the point of loan application only."
   ]
  },
  {
   "cell_type": "code",
   "execution_count": 13,
   "metadata": {},
   "outputs": [
    {
     "name": "stdout",
     "output_type": "stream",
     "text": [
      "(423810, 46)\n"
     ]
    }
   ],
   "source": [
    "cols = ['Unnamed: 0','funded_amnt', 'funded_amnt_inv','sub_grade', 'emp_title','zip_code','out_prncp','out_prncp_inv','total_pymnt', 'total_pymnt_inv','total_rec_prncp','total_rec_int',\n",
    "'total_rec_late_fee','recoveries','collection_recovery_fee','last_pymnt_amnt','collections_12_mths_ex_med','tot_cur_bal','bc_open_to_buy',\n",
    "'mo_sin_old_il_acct','mo_sin_old_rev_tl_op','mo_sin_rcnt_tl','mths_since_recent_bc','mths_since_recent_inq','num_actv_bc_tl','num_bc_tl',\n",
    "'num_il_tl','num_rev_accts','num_actv_rev_tl','num_tl_120dpd_2m','num_tl_30dpd','num_tl_90g_dpd_24m','num_tl_op_past_12m','tot_hi_cred_lim','total_bc_limit',\n",
    "'total_il_high_credit_limit','earliest_cr_line','last_pymnt_d','title','initial_list_status']\n",
    "\n",
    "df2 = df2.drop(cols, axis =1)\n",
    "print(df2.shape)\n"
   ]
  },
  {
   "cell_type": "code",
   "execution_count": 14,
   "metadata": {},
   "outputs": [
    {
     "name": "stdout",
     "output_type": "stream",
     "text": [
      "(423810, 37)\n"
     ]
    }
   ],
   "source": [
    "cols = ['last_credit_pull_d','tot_coll_amt','total_rev_hi_lim','acc_open_past_24mths','mo_sin_rcnt_rev_tl_op','acc_now_delinq','num_op_rev_tl','num_rev_tl_bal_gt_0','revol_util']\n",
    "\n",
    "df2 = df2.drop(cols, axis = 1)\n",
    "print(df2.shape)"
   ]
  },
  {
   "cell_type": "code",
   "execution_count": 15,
   "metadata": {},
   "outputs": [
    {
     "data": {
      "text/plain": [
       "Text(0, 0.5, 'Data type')"
      ]
     },
     "execution_count": 15,
     "metadata": {},
     "output_type": "execute_result"
    },
    {
     "data": {
      "image/png": "[encoded data removed]",
      "text/plain": [
       "<Figure size 432x288 with 1 Axes>"
      ]
     },
     "metadata": {
      "needs_background": "light"
     },
     "output_type": "display_data"
    }
   ],
   "source": [
    "#Let look at the distribution of my dataset based on data types so I can group the numerical and categorical variables\n",
    "df2.dtypes.value_counts().sort_values().plot(kind='barh')\n",
    "plt.title('Number of columns distributed by Data Types',fontsize=20)\n",
    "plt.xlabel('Number of columns',fontsize=15)\n",
    "plt.ylabel('Data type',fontsize=15)"
   ]
  },
  {
   "cell_type": "code",
   "execution_count": 16,
   "metadata": {},
   "outputs": [],
   "source": [
    "df2.to_csv('lcdata3.csv')"
   ]
  },
  {
   "cell_type": "code",
   "execution_count": 17,
   "metadata": {},
   "outputs": [
    {
     "data": {
      "text/plain": [
       "(423810, 38)"
      ]
     },
     "execution_count": 17,
     "metadata": {},
     "output_type": "execute_result"
    }
   ],
   "source": [
    "df3 = pd.read_csv('lcdata3.csv')\n",
    "df3.issue_d.unique()\n",
    "df3.shape\n",
    "#df3.issue_d.replace('41974','14-Dec', inplace = True)\n"
   ]
  },
  {
   "cell_type": "code",
   "execution_count": 18,
   "metadata": {},
   "outputs": [
    {
     "data": {
      "text/html": [
       "<div>\n",
       "<style scoped>\n",
       "    .dataframe tbody tr th:only-of-type {\n",
       "        vertical-align: middle;\n",
       "    }\n",
       "\n",
       "    .dataframe tbody tr th {\n",
       "        vertical-align: top;\n",
       "    }\n",
       "\n",
       "    .dataframe thead th {\n",
       "        text-align: right;\n",
       "    }\n",
       "</style>\n",
       "<table border=\"1\" class=\"dataframe\">\n",
       "  <thead>\n",
       "    <tr style=\"text-align: right;\">\n",
       "      <th></th>\n",
       "      <th>issue_d</th>\n",
       "      <th>issue_month</th>\n",
       "      <th>issue_year</th>\n",
       "    </tr>\n",
       "  </thead>\n",
       "  <tbody>\n",
       "    <tr>\n",
       "      <th>0</th>\n",
       "      <td>13-Dec</td>\n",
       "      <td>Dec</td>\n",
       "      <td>13</td>\n",
       "    </tr>\n",
       "    <tr>\n",
       "      <th>1</th>\n",
       "      <td>13-Dec</td>\n",
       "      <td>Dec</td>\n",
       "      <td>13</td>\n",
       "    </tr>\n",
       "    <tr>\n",
       "      <th>2</th>\n",
       "      <td>13-Dec</td>\n",
       "      <td>Dec</td>\n",
       "      <td>13</td>\n",
       "    </tr>\n",
       "    <tr>\n",
       "      <th>3</th>\n",
       "      <td>13-Dec</td>\n",
       "      <td>Dec</td>\n",
       "      <td>13</td>\n",
       "    </tr>\n",
       "    <tr>\n",
       "      <th>4</th>\n",
       "      <td>13-Dec</td>\n",
       "      <td>Dec</td>\n",
       "      <td>13</td>\n",
       "    </tr>\n",
       "  </tbody>\n",
       "</table>\n",
       "</div>"
      ],
      "text/plain": [
       "  issue_d issue_month issue_year\n",
       "0  13-Dec         Dec         13\n",
       "1  13-Dec         Dec         13\n",
       "2  13-Dec         Dec         13\n",
       "3  13-Dec         Dec         13\n",
       "4  13-Dec         Dec         13"
      ]
     },
     "execution_count": 18,
     "metadata": {},
     "output_type": "execute_result"
    }
   ],
   "source": [
    "#Create a column for month and year\n",
    "df3['issue_year'],df3['issue_month'] = df3['issue_d'].str.split('-', 1).str\n",
    "df3[['issue_d','issue_month','issue_year']].head()"
   ]
  },
  {
   "cell_type": "code",
   "execution_count": 19,
   "metadata": {},
   "outputs": [],
   "source": [
    "#We need to change the order of months \n",
    "months_order = [\"Jan\", \"Feb\", \"Mar\", \"Apr\",\"May\",\"Jun\",\"Jul\",\"Aug\",\"Sep\",\"Oct\",\"Nov\",\"Dec\"]\n",
    "df3['issue_month'] = pd.Categorical(df3['issue_month'],categories=months_order, ordered=True)"
   ]
  },
  {
   "cell_type": "code",
   "execution_count": 20,
   "metadata": {},
   "outputs": [
    {
     "data": {
      "text/html": [
       "<div>\n",
       "<style scoped>\n",
       "    .dataframe tbody tr th:only-of-type {\n",
       "        vertical-align: middle;\n",
       "    }\n",
       "\n",
       "    .dataframe tbody tr th {\n",
       "        vertical-align: top;\n",
       "    }\n",
       "\n",
       "    .dataframe thead th {\n",
       "        text-align: right;\n",
       "    }\n",
       "</style>\n",
       "<table border=\"1\" class=\"dataframe\">\n",
       "  <thead>\n",
       "    <tr style=\"text-align: right;\">\n",
       "      <th></th>\n",
       "      <th>loan_amnt</th>\n",
       "      <th>term</th>\n",
       "      <th>int_rate</th>\n",
       "      <th>installment</th>\n",
       "      <th>grade</th>\n",
       "      <th>emp_length</th>\n",
       "      <th>home_ownership</th>\n",
       "      <th>annual_inc</th>\n",
       "      <th>verification_status</th>\n",
       "      <th>issue_d</th>\n",
       "      <th>...</th>\n",
       "      <th>pct_tl_nvr_dlq</th>\n",
       "      <th>percent_bc_gt_75</th>\n",
       "      <th>pub_rec_bankruptcies</th>\n",
       "      <th>tax_liens</th>\n",
       "      <th>total_bal_ex_mort</th>\n",
       "      <th>hardship_flag</th>\n",
       "      <th>debt_settlement_flag</th>\n",
       "      <th>months</th>\n",
       "      <th>issue_year</th>\n",
       "      <th>issue_month</th>\n",
       "    </tr>\n",
       "  </thead>\n",
       "  <tbody>\n",
       "    <tr>\n",
       "      <th>0</th>\n",
       "      <td>12000</td>\n",
       "      <td>36 months</td>\n",
       "      <td>7.62%</td>\n",
       "      <td>373.94</td>\n",
       "      <td>A</td>\n",
       "      <td>0-3 years</td>\n",
       "      <td>MORTGAGE</td>\n",
       "      <td>96500.0</td>\n",
       "      <td>Not Verified</td>\n",
       "      <td>13-Dec</td>\n",
       "      <td>...</td>\n",
       "      <td>100.0</td>\n",
       "      <td>100.0</td>\n",
       "      <td>0</td>\n",
       "      <td>0</td>\n",
       "      <td>46738.0</td>\n",
       "      <td>N</td>\n",
       "      <td>N</td>\n",
       "      <td>30.0</td>\n",
       "      <td>13</td>\n",
       "      <td>Dec</td>\n",
       "    </tr>\n",
       "    <tr>\n",
       "      <th>1</th>\n",
       "      <td>27050</td>\n",
       "      <td>36 months</td>\n",
       "      <td>10.99%</td>\n",
       "      <td>885.46</td>\n",
       "      <td>B</td>\n",
       "      <td>8-10 years</td>\n",
       "      <td>OWN</td>\n",
       "      <td>55000.0</td>\n",
       "      <td>Verified</td>\n",
       "      <td>13-Dec</td>\n",
       "      <td>...</td>\n",
       "      <td>100.0</td>\n",
       "      <td>25.0</td>\n",
       "      <td>0</td>\n",
       "      <td>0</td>\n",
       "      <td>70186.0</td>\n",
       "      <td>N</td>\n",
       "      <td>N</td>\n",
       "      <td>31.0</td>\n",
       "      <td>13</td>\n",
       "      <td>Dec</td>\n",
       "    </tr>\n",
       "    <tr>\n",
       "      <th>2</th>\n",
       "      <td>12000</td>\n",
       "      <td>36 months</td>\n",
       "      <td>11.99%</td>\n",
       "      <td>398.52</td>\n",
       "      <td>B</td>\n",
       "      <td>8-10 years</td>\n",
       "      <td>MORTGAGE</td>\n",
       "      <td>130000.0</td>\n",
       "      <td>Source Verified</td>\n",
       "      <td>13-Dec</td>\n",
       "      <td>...</td>\n",
       "      <td>100.0</td>\n",
       "      <td>1.0</td>\n",
       "      <td>0</td>\n",
       "      <td>0</td>\n",
       "      <td>44327.0</td>\n",
       "      <td>N</td>\n",
       "      <td>N</td>\n",
       "      <td>38.0</td>\n",
       "      <td>13</td>\n",
       "      <td>Dec</td>\n",
       "    </tr>\n",
       "    <tr>\n",
       "      <th>3</th>\n",
       "      <td>28000</td>\n",
       "      <td>36 months</td>\n",
       "      <td>7.62%</td>\n",
       "      <td>872.52</td>\n",
       "      <td>A</td>\n",
       "      <td>4-7 years</td>\n",
       "      <td>MORTGAGE</td>\n",
       "      <td>325000.0</td>\n",
       "      <td>Source Verified</td>\n",
       "      <td>13-Dec</td>\n",
       "      <td>...</td>\n",
       "      <td>100.0</td>\n",
       "      <td>16.7</td>\n",
       "      <td>0</td>\n",
       "      <td>0</td>\n",
       "      <td>199739.0</td>\n",
       "      <td>N</td>\n",
       "      <td>N</td>\n",
       "      <td>8.0</td>\n",
       "      <td>13</td>\n",
       "      <td>Dec</td>\n",
       "    </tr>\n",
       "    <tr>\n",
       "      <th>4</th>\n",
       "      <td>27600</td>\n",
       "      <td>60 months</td>\n",
       "      <td>19.97%</td>\n",
       "      <td>730.78</td>\n",
       "      <td>D</td>\n",
       "      <td>4-7 years</td>\n",
       "      <td>MORTGAGE</td>\n",
       "      <td>73000.0</td>\n",
       "      <td>Source Verified</td>\n",
       "      <td>13-Dec</td>\n",
       "      <td>...</td>\n",
       "      <td>87.5</td>\n",
       "      <td>80.0</td>\n",
       "      <td>0</td>\n",
       "      <td>0</td>\n",
       "      <td>37808.0</td>\n",
       "      <td>N</td>\n",
       "      <td>N</td>\n",
       "      <td>41.0</td>\n",
       "      <td>13</td>\n",
       "      <td>Dec</td>\n",
       "    </tr>\n",
       "  </tbody>\n",
       "</table>\n",
       "<p>5 rows × 39 columns</p>\n",
       "</div>"
      ],
      "text/plain": [
       "   loan_amnt        term int_rate  installment grade  emp_length  \\\n",
       "0      12000   36 months    7.62%       373.94     A   0-3 years   \n",
       "1      27050   36 months   10.99%       885.46     B  8-10 years   \n",
       "2      12000   36 months   11.99%       398.52     B  8-10 years   \n",
       "3      28000   36 months    7.62%       872.52     A   4-7 years   \n",
       "4      27600   60 months   19.97%       730.78     D   4-7 years   \n",
       "\n",
       "  home_ownership  annual_inc verification_status issue_d  ... pct_tl_nvr_dlq  \\\n",
       "0       MORTGAGE     96500.0        Not Verified  13-Dec  ...          100.0   \n",
       "1            OWN     55000.0            Verified  13-Dec  ...          100.0   \n",
       "2       MORTGAGE    130000.0     Source Verified  13-Dec  ...          100.0   \n",
       "3       MORTGAGE    325000.0     Source Verified  13-Dec  ...          100.0   \n",
       "4       MORTGAGE     73000.0     Source Verified  13-Dec  ...           87.5   \n",
       "\n",
       "  percent_bc_gt_75 pub_rec_bankruptcies tax_liens  total_bal_ex_mort  \\\n",
       "0            100.0                    0         0            46738.0   \n",
       "1             25.0                    0         0            70186.0   \n",
       "2              1.0                    0         0            44327.0   \n",
       "3             16.7                    0         0           199739.0   \n",
       "4             80.0                    0         0            37808.0   \n",
       "\n",
       "   hardship_flag  debt_settlement_flag  months  issue_year  issue_month  \n",
       "0              N                     N    30.0          13          Dec  \n",
       "1              N                     N    31.0          13          Dec  \n",
       "2              N                     N    38.0          13          Dec  \n",
       "3              N                     N     8.0          13          Dec  \n",
       "4              N                     N    41.0          13          Dec  \n",
       "\n",
       "[5 rows x 39 columns]"
      ]
     },
     "execution_count": 20,
     "metadata": {},
     "output_type": "execute_result"
    }
   ],
   "source": [
    "df3 = df3.drop('Unnamed: 0', axis= 1)\n",
    "df3.head()"
   ]
  },
  {
   "cell_type": "code",
   "execution_count": 21,
   "metadata": {},
   "outputs": [
    {
     "name": "stdout",
     "output_type": "stream",
     "text": [
      " 36 months    306462\n",
      " 60 months    117348\n",
      "Name: term, dtype: int64\n",
      "\n",
      "8-10 years    178059\n",
      "0-3 years     146006\n",
      "4-7 years      99745\n",
      "Name: emp_length, dtype: int64\n",
      "\n",
      "Verified           154618\n",
      "Source Verified    141851\n",
      "Not Verified       127341\n",
      "Name: verification_status, dtype: int64\n",
      "\n",
      "n    423806\n",
      "y         4\n",
      "Name: pymnt_plan, dtype: int64\n",
      "\n",
      "N    423804\n",
      "Y         6\n",
      "Name: hardship_flag, dtype: int64\n",
      "\n",
      "N    417438\n",
      "Y      6372\n",
      "Name: debt_settlement_flag, dtype: int64\n",
      "\n",
      "14    235629\n",
      "13    134814\n",
      "12     53367\n",
      "Name: issue_year, dtype: int64\n",
      "\n"
     ]
    }
   ],
   "source": [
    "#Finds column with which unique values tend to occur less than 10 times\n",
    "for col in df3.columns:\n",
    "    if (len(df3[col].unique()) < 4):\n",
    "        print(df3[col].value_counts())\n",
    "        print()"
   ]
  },
  {
   "cell_type": "markdown",
   "metadata": {},
   "source": [
    "Since the value with 'y' in payment plan and hardship flag tend to occur less than 10 times. We can drop this column since it will not much affect our dependent variable."
   ]
  },
  {
   "cell_type": "code",
   "execution_count": 22,
   "metadata": {},
   "outputs": [
    {
     "name": "stdout",
     "output_type": "stream",
     "text": [
      "(423810, 37)\n"
     ]
    }
   ],
   "source": [
    "df3 = df3.drop(['pymnt_plan','hardship_flag'], axis = 1)\n",
    "print(df3.shape)\n",
    "df3.to_csv('lcdata4.csv')"
   ]
  },
  {
   "cell_type": "code",
   "execution_count": 23,
   "metadata": {},
   "outputs": [],
   "source": [
    "df3['loan_status'].value_counts()\n",
    "df3['int_rate'] = df3['int_rate'].str.rstrip('%').astype('float') / 100.0 #removed the percentage sign on interest rate column"
   ]
  },
  {
   "cell_type": "markdown",
   "metadata": {},
   "source": [
    "We will now adjust our target variable which is the loan status. We will remove Current, Late, and In Grace Period loans and we will code Fully Paid as 0 otherwise 1."
   ]
  },
  {
   "cell_type": "code",
   "execution_count": 24,
   "metadata": {},
   "outputs": [
    {
     "data": {
      "text/plain": [
       "Fully Paid    343216\n",
       "Default        71028\n",
       "Name: loan_status, dtype: int64"
      ]
     },
     "execution_count": 24,
     "metadata": {},
     "output_type": "execute_result"
    }
   ],
   "source": [
    "df3 = df3[df3.loan_status != 'Current']\n",
    "df3 = df3[df3.loan_status != 'In Grace Period']\n",
    "df3 = df3[df3.loan_status != 'Late (16-30 days)']\n",
    "df3 = df3[df3.loan_status != 'Late (31-120 days)']\n",
    "df3.loan_status.value_counts()\n",
    "df3['loan_status'] = df3['loan_status'].replace({'Charged Off':'Default'})\n",
    "df3['loan_status'].value_counts()"
   ]
  },
  {
   "cell_type": "code",
   "execution_count": 25,
   "metadata": {},
   "outputs": [
    {
     "data": {
      "text/plain": [
       "debt_consolidation    248364\n",
       "credit_card            96423\n",
       "Other                  24967\n",
       "home_improvement       24620\n",
       "major_purchase         19870\n",
       "Name: purpose, dtype: int64"
      ]
     },
     "execution_count": 25,
     "metadata": {},
     "output_type": "execute_result"
    }
   ],
   "source": [
    "#Decreasing the number of categoriess on the purpose variable\n",
    "#df3.purpose.replace('NONE','OTHER',inplace = True)\n",
    "#df3.purpose.replace('ANY','OTHER',inplace = True)\n",
    "#df3.purpose.value_counts()\n",
    "df3.purpose.replace('house','home_improvement',inplace = True)\n",
    "df3.purpose.replace('small_business','major_purchase',inplace = True)\n",
    "df3.purpose.replace('car','major_purchase',inplace = True)\n",
    "df3.purpose.replace('medical','major_purchase',inplace = True)\n",
    "df3.purpose.replace('moving','Other',inplace = True)\n",
    "df3.purpose.replace('vacation','Other',inplace = True)\n",
    "df3.purpose.replace('wedding','Other',inplace = True)\n",
    "df3.purpose.replace('renewable_energy','Other',inplace = True)\n",
    "df3.purpose.replace('other','Other',inplace = True)\n",
    "df3.purpose.value_counts()"
   ]
  },
  {
   "cell_type": "markdown",
   "metadata": {},
   "source": [
    "# Exploratory Data Analysis"
   ]
  },
  {
   "cell_type": "code",
   "execution_count": 26,
   "metadata": {},
   "outputs": [
    {
     "data": {
      "text/plain": [
       "Text(0, 0.5, 'Average loan amount issued')"
      ]
     },
     "execution_count": 26,
     "metadata": {},
     "output_type": "execute_result"
    },
    {
     "data": {
      "image/png": "[encoded data removed]",
      "text/plain": [
       "<Figure size 360x360 with 1 Axes>"
      ]
     },
     "metadata": {
      "needs_background": "light"
     },
     "output_type": "display_data"
    }
   ],
   "source": [
    "plt.figure(figsize=(5,5))\n",
    "sns.barplot('issue_year', 'loan_amnt', data=df3, palette='tab10')\n",
    "plt.title('Issuance of Loans', fontsize=16)\n",
    "plt.xlabel('Year', fontsize=14)\n",
    "plt.ylabel('Average loan amount issued', fontsize=14)"
   ]
  },
  {
   "cell_type": "markdown",
   "metadata": {},
   "source": [
    "## Assessment: \n",
    "Issuance of loan increases per year"
   ]
  },
  {
   "cell_type": "code",
   "execution_count": 27,
   "metadata": {
    "scrolled": true
   },
   "outputs": [
    {
     "data": {
      "text/html": [
       "[Text(0, 0.5, '(%)')]"
      ],
      "text/plain": [
       "[Text(0, 0.5, '(%)')]"
      ]
     },
     "execution_count": 27,
     "metadata": {},
     "output_type": "execute_result"
    },
    {
     "data": {
      "image/png": "[encoded data removed]",
      "text/plain": [
       "<Figure size 864x648 with 2 Axes>"
      ]
     },
     "metadata": {
      "needs_background": "light"
     },
     "output_type": "display_data"
    }
   ],
   "source": [
    "f, ax = plt.subplots(1,2, figsize=(12,9))\n",
    "\n",
    "colors = [\"#3791D7\", \"#D72626\"]\n",
    "labels =\"Good Loans\", \"Bad Loans\"\n",
    "\n",
    "plt.suptitle('Information on Loan Conditions', fontsize=20)\n",
    "\n",
    "df3['loan_status'].value_counts().plot.pie(explode=[0,0.25], autopct='%1.2f%%', ax=ax[0], shadow=True, colors=colors, \n",
    "                                             labels=labels, fontsize=12, startangle=70)\n",
    "\n",
    "\n",
    "# ax[0].set_title('State of Loan', fontsize=16)\n",
    "ax[0].set_ylabel('% of Condition of Loans', fontsize=14)\n",
    "\n",
    "# sns.countplot('loan_condition', data=df, ax=ax[1], palette=colors)\n",
    "# ax[1].set_title('Condition of Loans', fontsize=20)\n",
    "# ax[1].set_xticklabels(['Good', 'Bad'], rotation='horizontal')\n",
    "palette = [\"#3791D7\", \"#E01E1B\"]\n",
    "\n",
    "sns.barplot(x=\"issue_year\", y=\"loan_amnt\", hue=\"loan_status\", data=df3, palette=palette, estimator=lambda x: len(x) / len(df3) * 100)\n",
    "ax[1].set(ylabel=\"(%)\")"
   ]
  },
  {
   "cell_type": "markdown",
   "metadata": {},
   "source": [
    "## Assessment\n",
    "The number of Default increases per year which can be a risk for investors to invest their money on peer to peer lending.\n",
    "\n",
    "Lending Club (LC) revenue will decrease if the number of their investors will decrease through time because of the increase of default borrowers. LC club needs to take action to maintain their investors."
   ]
  },
  {
   "cell_type": "code",
   "execution_count": 29,
   "metadata": {},
   "outputs": [
    {
     "data": {
      "text/plain": [
       "Text(0.5, 1.0, 'Type of Loans by Grade')"
      ]
     },
     "execution_count": 29,
     "metadata": {},
     "output_type": "execute_result"
    },
    {
     "data": {
      "image/png": "[encoded data removed]",
      "text/plain": [
       "<Figure size 936x576 with 1 Axes>"
      ]
     },
     "metadata": {
      "needs_background": "light"
     },
     "output_type": "display_data"
    }
   ],
   "source": [
    "fig = plt.figure(figsize=(13,8))\n",
    "\n",
    "ax1 = fig.add_subplot(221)\n",
    "#ax2 = fig.add_subplot(222)\n",
    "\n",
    "cmap = plt.cm.coolwarm_r\n",
    "\n",
    "loans_by_region = df3.groupby(['grade', 'loan_status']).size()\n",
    "loans_by_region.unstack().plot(kind='bar', stacked=True, colormap=cmap, ax=ax1, grid=False)\n",
    "ax1.set_title('Type of Loans by Grade', fontsize=14)\n",
    "\n",
    "#by_interest = df.groupby(['issue_year', 'loan_status']).int_rate.mean()\n",
    "#by_interest.unstack().plot(ax=ax2, colormap=cmap)\n",
    "#ax2.set_title('Average Interest rate by Loan Condition', fontsize=14)\n",
    "#ax2.set_ylabel('Interest Rate (%)', fontsize=12)"
   ]
  },
  {
   "cell_type": "markdown",
   "metadata": {},
   "source": [
    "# Assessment: \n",
    "\n",
    "Good loans tend to centralize on B grade borrowers while Bad loans tend to centralize on C grade borrowers. Generally, we can't say that the lower borrower grade will be, the higher the chance to default."
   ]
  },
  {
   "cell_type": "code",
   "execution_count": 30,
   "metadata": {},
   "outputs": [
    {
     "data": {
      "image/png": "[encoded data removed]",
      "text/plain": [
       "<Figure size 792x576 with 1 Axes>"
      ]
     },
     "metadata": {},
     "output_type": "display_data"
    }
   ],
   "source": [
    "pal = {'Fully Paid':\"seagreen\", 'Default':\"gray\"}\n",
    "sns.set(style=\"darkgrid\")\n",
    "plt.subplots(figsize = (11,8))\n",
    "ax = sns.countplot(x = \"term\", \n",
    "                   hue=\"loan_status\",\n",
    "                   data = df3, \n",
    "                   linewidth=2, \n",
    "                   palette = pal\n",
    ")\n",
    "\n",
    "## Fixing title, xlabel and ylabel\n",
    "plt.title(\"Borrower Loan Distribution - Good Loan vs Bad Loan\", fontsize = 25)\n",
    "plt.xlabel(\"Term\", fontsize = 15);\n",
    "plt.ylabel(\"# of Loans\", fontsize = 15)\n",
    "\n",
    "## Fixing xticks\n",
    "#labels = ['Female', 'Male']\n",
    "#plt.xticks(sorted(train.Sex.unique()), labels)\n",
    "\n",
    "## Fixing legends\n",
    "leg = ax.get_legend()\n",
    "leg.set_title(\"Loans\")\n",
    "legs = leg.texts\n",
    "legs[0].set_text(\"Good\")\n",
    "legs[1].set_text(\"Bad\")\n",
    "plt.show()"
   ]
  },
  {
   "cell_type": "markdown",
   "metadata": {},
   "source": [
    "# Assessment:\n",
    "\n",
    "Borrower's term plan is not significant for determining whether a specific borrower will default."
   ]
  },
  {
   "cell_type": "code",
   "execution_count": 31,
   "metadata": {},
   "outputs": [
    {
     "data": {
      "image/png": "[encoded data removed]",
      "text/plain": [
       "<Figure size 1584x432 with 1 Axes>"
      ]
     },
     "metadata": {},
     "output_type": "display_data"
    }
   ],
   "source": [
    "fig = plt.figure(figsize=(22,6))\n",
    "sns.kdeplot(df3.loc[df3['loan_status'] == 'Default', 'int_rate'], label = 'Bad Loan')\n",
    "sns.kdeplot(df3.loc[df3['loan_status'] == 'Fully Paid', 'int_rate'], label = 'Good Loan');\n",
    "plt.xlabel('Interest Rate (%)',fontsize=15)\n",
    "plt.ylabel('Density',fontsize=15)\n",
    "plt.title('Distribution of Interest Rate',fontsize=20);"
   ]
  },
  {
   "cell_type": "markdown",
   "metadata": {},
   "source": [
    "# Assessment: \n",
    "\n",
    "The mean interest rate for Good and Bad loan doesn't have much difference. Thus interest rate is not a significant factor for determining a Bad loan."
   ]
  },
  {
   "cell_type": "code",
   "execution_count": 32,
   "metadata": {},
   "outputs": [],
   "source": [
    "df3['addr_state'].unique()\n",
    "\n",
    "# Make a list with each of the regions by state.\n",
    "\n",
    "west = ['CA', 'OR', 'UT','WA', 'CO', 'NV', 'AK', 'MT', 'HI', 'WY', 'ID']\n",
    "south_west = ['AZ', 'TX', 'NM', 'OK']\n",
    "south_east = ['GA', 'NC', 'VA', 'FL', 'KY', 'SC', 'LA', 'AL', 'WV', 'DC', 'AR', 'DE', 'MS', 'TN' ]\n",
    "mid_west = ['IL', 'MO', 'MN', 'OH', 'WI', 'KS', 'MI', 'SD', 'IA', 'NE', 'IN', 'ND']\n",
    "north_east = ['CT', 'NY', 'PA', 'NJ', 'RI','MA', 'MD', 'VT', 'NH', 'ME']\n",
    "\n",
    "df3['region'] = np.nan\n",
    "\n",
    "def find_regions(state):\n",
    "    if state in west:\n",
    "        return 'West'\n",
    "    elif state in south_west:\n",
    "        return 'SouthWest'\n",
    "    elif state in south_east:\n",
    "        return 'SouthEast'\n",
    "    elif state in mid_west:\n",
    "        return 'MidWest'\n",
    "    elif state in north_east:\n",
    "        return 'NorthEast'\n",
    "    \n",
    "df3['region'] = df3['addr_state'].apply(find_regions)"
   ]
  },
  {
   "cell_type": "code",
   "execution_count": 33,
   "metadata": {},
   "outputs": [],
   "source": [
    "def crosstab(df,col):\n",
    "    '''\n",
    "    df : Dataframe\n",
    "    col: Column Name\n",
    "    '''\n",
    "    crosstab = pd.crosstab(df[col], df['loan_status'],margins=True)\n",
    "    crosstab['Probability_Default'] = round((crosstab['Default']/crosstab['All']),3)\n",
    "    crosstab = crosstab[0:-1]\n",
    "    return crosstab\n",
    "\n",
    "def graph_combo(df,col,stacked= True):\n",
    "    '''\n",
    "    df      : Dataframe\n",
    "    col     : Column Name\n",
    "    stacked : True(default) for Stacked Bar\n",
    "    '''\n",
    "    # get dataframe from crosstab function\n",
    "    plotCrosstab = crosstab(df,col)\n",
    "    \n",
    "    linePlot = plotCrosstab[['Probability_Default']]      \n",
    "    barPlot =  plotCrosstab.iloc[:,0:2]\n",
    "    ax = linePlot.plot(figsize=(20,8), marker='o',color = 'g')\n",
    "    ax2 = barPlot.plot(kind='bar',ax = ax,rot=1,secondary_y=True,stacked=stacked)\n",
    "    ax.set_title(df[col].name.title()+' vs Probability Default',fontsize=20,weight=\"bold\")\n",
    "    ax.set_xlabel(df[col].name.title(),fontsize=14)\n",
    "    ax.set_ylabel('Probability of Default',color = 'r',fontsize=14)\n",
    "    ax2.set_ylabel('Number of Applicants',color = 'y',fontsize=14)\n",
    "    plt.show()"
   ]
  },
  {
   "cell_type": "code",
   "execution_count": 35,
   "metadata": {},
   "outputs": [
    {
     "data": {
      "text/html": [
       "<div>\n",
       "<style scoped>\n",
       "    .dataframe tbody tr th:only-of-type {\n",
       "        vertical-align: middle;\n",
       "    }\n",
       "\n",
       "    .dataframe tbody tr th {\n",
       "        vertical-align: top;\n",
       "    }\n",
       "\n",
       "    .dataframe thead th {\n",
       "        text-align: right;\n",
       "    }\n",
       "</style>\n",
       "<table border=\"1\" class=\"dataframe\">\n",
       "  <thead>\n",
       "    <tr style=\"text-align: right;\">\n",
       "      <th>loan_status</th>\n",
       "      <th>Default</th>\n",
       "      <th>Fully Paid</th>\n",
       "      <th>All</th>\n",
       "      <th>Probability_Default</th>\n",
       "    </tr>\n",
       "    <tr>\n",
       "      <th>purpose</th>\n",
       "      <th></th>\n",
       "      <th></th>\n",
       "      <th></th>\n",
       "      <th></th>\n",
       "    </tr>\n",
       "  </thead>\n",
       "  <tbody>\n",
       "    <tr>\n",
       "      <th>Other</th>\n",
       "      <td>4668</td>\n",
       "      <td>20299</td>\n",
       "      <td>24967</td>\n",
       "      <td>0.187</td>\n",
       "    </tr>\n",
       "    <tr>\n",
       "      <th>credit_card</th>\n",
       "      <td>13862</td>\n",
       "      <td>82561</td>\n",
       "      <td>96423</td>\n",
       "      <td>0.144</td>\n",
       "    </tr>\n",
       "    <tr>\n",
       "      <th>debt_consolidation</th>\n",
       "      <td>45058</td>\n",
       "      <td>203306</td>\n",
       "      <td>248364</td>\n",
       "      <td>0.181</td>\n",
       "    </tr>\n",
       "    <tr>\n",
       "      <th>home_improvement</th>\n",
       "      <td>3851</td>\n",
       "      <td>20769</td>\n",
       "      <td>24620</td>\n",
       "      <td>0.156</td>\n",
       "    </tr>\n",
       "    <tr>\n",
       "      <th>major_purchase</th>\n",
       "      <td>3589</td>\n",
       "      <td>16281</td>\n",
       "      <td>19870</td>\n",
       "      <td>0.181</td>\n",
       "    </tr>\n",
       "  </tbody>\n",
       "</table>\n",
       "</div>"
      ],
      "text/plain": [
       "loan_status         Default  Fully Paid     All  Probability_Default\n",
       "purpose                                                             \n",
       "Other                  4668       20299   24967                0.187\n",
       "credit_card           13862       82561   96423                0.144\n",
       "debt_consolidation    45058      203306  248364                0.181\n",
       "home_improvement       3851       20769   24620                0.156\n",
       "major_purchase         3589       16281   19870                0.181"
      ]
     },
     "metadata": {},
     "output_type": "display_data"
    },
    {
     "data": {
      "image/png": "[encoded data removed]",
      "text/plain": [
       "<Figure size 1440x576 with 2 Axes>"
      ]
     },
     "metadata": {},
     "output_type": "display_data"
    }
   ],
   "source": [
    "purpose = crosstab(df3,'purpose')\n",
    "display(purpose)\n",
    "\n",
    "graph_combo(df =df3,col ='purpose',stacked=False)"
   ]
  },
  {
   "cell_type": "markdown",
   "metadata": {},
   "source": [
    "# Assessment:\n",
    "\n"
   ]
  },
  {
   "cell_type": "code",
   "execution_count": 36,
   "metadata": {},
   "outputs": [
    {
     "data": {
      "text/html": [
       "<div>\n",
       "<style scoped>\n",
       "    .dataframe tbody tr th:only-of-type {\n",
       "        vertical-align: middle;\n",
       "    }\n",
       "\n",
       "    .dataframe tbody tr th {\n",
       "        vertical-align: top;\n",
       "    }\n",
       "\n",
       "    .dataframe thead th {\n",
       "        text-align: right;\n",
       "    }\n",
       "</style>\n",
       "<table border=\"1\" class=\"dataframe\">\n",
       "  <thead>\n",
       "    <tr style=\"text-align: right;\">\n",
       "      <th>loan_status</th>\n",
       "      <th>Default</th>\n",
       "      <th>Fully Paid</th>\n",
       "      <th>All</th>\n",
       "      <th>Probability_Default</th>\n",
       "    </tr>\n",
       "    <tr>\n",
       "      <th>grade</th>\n",
       "      <th></th>\n",
       "      <th></th>\n",
       "      <th></th>\n",
       "      <th></th>\n",
       "    </tr>\n",
       "  </thead>\n",
       "  <tbody>\n",
       "    <tr>\n",
       "      <th>A</th>\n",
       "      <td>3567</td>\n",
       "      <td>60909</td>\n",
       "      <td>64476</td>\n",
       "      <td>0.055</td>\n",
       "    </tr>\n",
       "    <tr>\n",
       "      <th>B</th>\n",
       "      <td>13714</td>\n",
       "      <td>109166</td>\n",
       "      <td>122880</td>\n",
       "      <td>0.112</td>\n",
       "    </tr>\n",
       "    <tr>\n",
       "      <th>C</th>\n",
       "      <td>21119</td>\n",
       "      <td>92419</td>\n",
       "      <td>113538</td>\n",
       "      <td>0.186</td>\n",
       "    </tr>\n",
       "    <tr>\n",
       "      <th>D</th>\n",
       "      <td>17127</td>\n",
       "      <td>51039</td>\n",
       "      <td>68166</td>\n",
       "      <td>0.251</td>\n",
       "    </tr>\n",
       "    <tr>\n",
       "      <th>E</th>\n",
       "      <td>10097</td>\n",
       "      <td>20850</td>\n",
       "      <td>30947</td>\n",
       "      <td>0.326</td>\n",
       "    </tr>\n",
       "    <tr>\n",
       "      <th>F</th>\n",
       "      <td>4254</td>\n",
       "      <td>7294</td>\n",
       "      <td>11548</td>\n",
       "      <td>0.368</td>\n",
       "    </tr>\n",
       "    <tr>\n",
       "      <th>G</th>\n",
       "      <td>1150</td>\n",
       "      <td>1539</td>\n",
       "      <td>2689</td>\n",
       "      <td>0.428</td>\n",
       "    </tr>\n",
       "  </tbody>\n",
       "</table>\n",
       "</div>"
      ],
      "text/plain": [
       "loan_status  Default  Fully Paid     All  Probability_Default\n",
       "grade                                                        \n",
       "A               3567       60909   64476                0.055\n",
       "B              13714      109166  122880                0.112\n",
       "C              21119       92419  113538                0.186\n",
       "D              17127       51039   68166                0.251\n",
       "E              10097       20850   30947                0.326\n",
       "F               4254        7294   11548                0.368\n",
       "G               1150        1539    2689                0.428"
      ]
     },
     "metadata": {},
     "output_type": "display_data"
    },
    {
     "data": {
      "image/png": "[encoded data removed]",
      "text/plain": [
       "<Figure size 1440x576 with 2 Axes>"
      ]
     },
     "metadata": {},
     "output_type": "display_data"
    }
   ],
   "source": [
    "grade = crosstab(df3,'grade')\n",
    "display(grade)\n",
    "\n",
    "graph_combo(df =df3,col ='grade',stacked=False)"
   ]
  },
  {
   "cell_type": "markdown",
   "metadata": {},
   "source": [
    "# Assessment:\n",
    "\n",
    "In terms of the borrower's probability to default, the lower the grade of the borrower. However, it can be seen that there are more loans  defaulted on borrowers having a grade of C-D. Maybe these borrowers are just making their credit scores good to have a lower interest rate but they have a habit of not fully paying the money that they loan."
   ]
  },
  {
   "cell_type": "code",
   "execution_count": 37,
   "metadata": {},
   "outputs": [
    {
     "data": {
      "text/html": [
       "<div>\n",
       "<style scoped>\n",
       "    .dataframe tbody tr th:only-of-type {\n",
       "        vertical-align: middle;\n",
       "    }\n",
       "\n",
       "    .dataframe tbody tr th {\n",
       "        vertical-align: top;\n",
       "    }\n",
       "\n",
       "    .dataframe thead th {\n",
       "        text-align: right;\n",
       "    }\n",
       "</style>\n",
       "<table border=\"1\" class=\"dataframe\">\n",
       "  <thead>\n",
       "    <tr style=\"text-align: right;\">\n",
       "      <th>loan_status</th>\n",
       "      <th>Default</th>\n",
       "      <th>Fully Paid</th>\n",
       "      <th>All</th>\n",
       "      <th>Probability_Default</th>\n",
       "    </tr>\n",
       "    <tr>\n",
       "      <th>emp_length</th>\n",
       "      <th></th>\n",
       "      <th></th>\n",
       "      <th></th>\n",
       "      <th></th>\n",
       "    </tr>\n",
       "  </thead>\n",
       "  <tbody>\n",
       "    <tr>\n",
       "      <th>0-3 years</th>\n",
       "      <td>25301</td>\n",
       "      <td>117821</td>\n",
       "      <td>143122</td>\n",
       "      <td>0.177</td>\n",
       "    </tr>\n",
       "    <tr>\n",
       "      <th>4-7 years</th>\n",
       "      <td>16679</td>\n",
       "      <td>81160</td>\n",
       "      <td>97839</td>\n",
       "      <td>0.170</td>\n",
       "    </tr>\n",
       "    <tr>\n",
       "      <th>8-10 years</th>\n",
       "      <td>29048</td>\n",
       "      <td>144235</td>\n",
       "      <td>173283</td>\n",
       "      <td>0.168</td>\n",
       "    </tr>\n",
       "  </tbody>\n",
       "</table>\n",
       "</div>"
      ],
      "text/plain": [
       "loan_status  Default  Fully Paid     All  Probability_Default\n",
       "emp_length                                                   \n",
       "0-3 years      25301      117821  143122                0.177\n",
       "4-7 years      16679       81160   97839                0.170\n",
       "8-10 years     29048      144235  173283                0.168"
      ]
     },
     "metadata": {},
     "output_type": "display_data"
    },
    {
     "data": {
      "image/png": "[encoded data removed]",
      "text/plain": [
       "<Figure size 1440x576 with 2 Axes>"
      ]
     },
     "metadata": {},
     "output_type": "display_data"
    }
   ],
   "source": [
    "emp_length = crosstab(df3,'emp_length')\n",
    "display(emp_length)\n",
    "\n",
    "graph_combo(df = df3,col ='emp_length')"
   ]
  },
  {
   "cell_type": "markdown",
   "metadata": {},
   "source": [
    "# Assessment:\n",
    "We can observe that in terms of proportion of bad loans, if the borrower is working for less than a year to 3 years of work, they have a high chance of defaulting their loan."
   ]
  },
  {
   "cell_type": "code",
   "execution_count": 38,
   "metadata": {},
   "outputs": [
    {
     "data": {
      "image/png": "[encoded data removed]",
      "text/plain": [
       "<Figure size 1080x576 with 1 Axes>"
      ]
     },
     "metadata": {},
     "output_type": "display_data"
    }
   ],
   "source": [
    "pal = {'Fully Paid':\"seagreen\", 'Default':\"gray\"}\n",
    "sns.set(style=\"darkgrid\")\n",
    "plt.subplots(figsize = (15,8))\n",
    "ax = sns.countplot(x = \"term\", \n",
    "                   hue=\"loan_status\",\n",
    "                   data = df3, \n",
    "                   linewidth=2, \n",
    "                   palette = pal\n",
    ")\n",
    "\n",
    "## Fixing title, xlabel and ylabel\n",
    "plt.title(\"Loan Term Distribution - Good Loan vs Bad Loan\", fontsize = 25)\n",
    "plt.xlabel(\"Term\", fontsize = 15);\n",
    "plt.ylabel(\"# of Loans\", fontsize = 15)\n",
    "\n",
    "## Fixing xticks\n",
    "#labels = ['Female', 'Male']\n",
    "#plt.xticks(sorted(train.Sex.unique()), labels)\n",
    "\n",
    "## Fixing legends\n",
    "leg = ax.get_legend()\n",
    "leg.set_title(\"Good Loan\")\n",
    "legs = leg.texts\n",
    "legs[0].set_text(\"Fully Paid\")\n",
    "legs[1].set_text(\"Default\")\n",
    "plt.show()"
   ]
  },
  {
   "cell_type": "markdown",
   "metadata": {},
   "source": [
    "We can observe that the number of default loans are almost the same per kind of term payments."
   ]
  },
  {
   "cell_type": "code",
   "execution_count": 39,
   "metadata": {},
   "outputs": [
    {
     "data": {
      "text/plain": [
       "Text(0, 0.5, 'Data type')"
      ]
     },
     "execution_count": 39,
     "metadata": {},
     "output_type": "execute_result"
    },
    {
     "data": {
      "image/png": "[encoded data removed]",
      "text/plain": [
       "<Figure size 432x288 with 1 Axes>"
      ]
     },
     "metadata": {},
     "output_type": "display_data"
    }
   ],
   "source": [
    "df3.dtypes.value_counts().sort_values().plot(kind='barh')\n",
    "plt.title('Number of columns distributed by Data Types',fontsize=20)\n",
    "plt.xlabel('Number of columns',fontsize=15)\n",
    "plt.ylabel('Data type',fontsize=15)"
   ]
  },
  {
   "cell_type": "markdown",
   "metadata": {},
   "source": [
    "# Final  Data Preprocessing\n",
    "\n",
    "Separated numerical and categorical features. Imputed all missing values.Implemented OneHot Encoding for categorical features."
   ]
  },
  {
   "cell_type": "code",
   "execution_count": 40,
   "metadata": {},
   "outputs": [],
   "source": [
    "numbers = df3.select_dtypes(include=['float64','int64']).copy()\n",
    "objcts = df3.select_dtypes(include = 'object').copy()"
   ]
  },
  {
   "cell_type": "code",
   "execution_count": 41,
   "metadata": {},
   "outputs": [
    {
     "data": {
      "text/plain": [
       "loan_amnt                       0\n",
       "int_rate                        0\n",
       "installment                     0\n",
       "annual_inc                      0\n",
       "dti                             0\n",
       "delinq_2yrs                     0\n",
       "inq_last_6mths                  0\n",
       "open_acc                        0\n",
       "pub_rec                         0\n",
       "revol_bal                       0\n",
       "total_acc                       0\n",
       "avg_cur_bal                 27753\n",
       "bc_util                     11621\n",
       "chargeoff_within_12_mths        0\n",
       "delinq_amnt                     0\n",
       "mort_acc                     7495\n",
       "num_accts_ever_120_pd       27741\n",
       "num_bc_sats                 16055\n",
       "num_sats                    16055\n",
       "pct_tl_nvr_dlq              27894\n",
       "percent_bc_gt_75            11493\n",
       "pub_rec_bankruptcies            0\n",
       "tax_liens                       0\n",
       "total_bal_ex_mort            7495\n",
       "months                        293\n",
       "dtype: int64"
      ]
     },
     "execution_count": 41,
     "metadata": {},
     "output_type": "execute_result"
    }
   ],
   "source": [
    "numbers.isna().sum()"
   ]
  },
  {
   "cell_type": "code",
   "execution_count": 42,
   "metadata": {},
   "outputs": [
    {
     "data": {
      "text/html": [
       "<div>\n",
       "<style scoped>\n",
       "    .dataframe tbody tr th:only-of-type {\n",
       "        vertical-align: middle;\n",
       "    }\n",
       "\n",
       "    .dataframe tbody tr th {\n",
       "        vertical-align: top;\n",
       "    }\n",
       "\n",
       "    .dataframe thead th {\n",
       "        text-align: right;\n",
       "    }\n",
       "</style>\n",
       "<table border=\"1\" class=\"dataframe\">\n",
       "  <thead>\n",
       "    <tr style=\"text-align: right;\">\n",
       "      <th></th>\n",
       "      <th>count</th>\n",
       "      <th>mean</th>\n",
       "      <th>std</th>\n",
       "      <th>min</th>\n",
       "      <th>25%</th>\n",
       "      <th>50%</th>\n",
       "      <th>75%</th>\n",
       "      <th>max</th>\n",
       "    </tr>\n",
       "  </thead>\n",
       "  <tbody>\n",
       "    <tr>\n",
       "      <th>loan_amnt</th>\n",
       "      <td>414244.0</td>\n",
       "      <td>14515.856355</td>\n",
       "      <td>8277.673972</td>\n",
       "      <td>1000.00</td>\n",
       "      <td>8000.0000</td>\n",
       "      <td>12500.0000</td>\n",
       "      <td>20000.0000</td>\n",
       "      <td>3.500000e+04</td>\n",
       "    </tr>\n",
       "    <tr>\n",
       "      <th>int_rate</th>\n",
       "      <td>414244.0</td>\n",
       "      <td>0.139596</td>\n",
       "      <td>0.043893</td>\n",
       "      <td>0.06</td>\n",
       "      <td>0.1099</td>\n",
       "      <td>0.1368</td>\n",
       "      <td>0.1678</td>\n",
       "      <td>2.606000e-01</td>\n",
       "    </tr>\n",
       "    <tr>\n",
       "      <th>installment</th>\n",
       "      <td>414244.0</td>\n",
       "      <td>442.071398</td>\n",
       "      <td>245.083377</td>\n",
       "      <td>4.93</td>\n",
       "      <td>265.6800</td>\n",
       "      <td>388.1400</td>\n",
       "      <td>578.2800</td>\n",
       "      <td>1.409990e+03</td>\n",
       "    </tr>\n",
       "    <tr>\n",
       "      <th>annual_inc</th>\n",
       "      <td>414244.0</td>\n",
       "      <td>73538.627097</td>\n",
       "      <td>53597.766091</td>\n",
       "      <td>3000.00</td>\n",
       "      <td>45000.0000</td>\n",
       "      <td>63000.0000</td>\n",
       "      <td>89033.0000</td>\n",
       "      <td>7.500000e+06</td>\n",
       "    </tr>\n",
       "    <tr>\n",
       "      <th>dti</th>\n",
       "      <td>414244.0</td>\n",
       "      <td>17.547675</td>\n",
       "      <td>7.836204</td>\n",
       "      <td>0.00</td>\n",
       "      <td>11.6700</td>\n",
       "      <td>17.1800</td>\n",
       "      <td>23.1600</td>\n",
       "      <td>3.999000e+01</td>\n",
       "    </tr>\n",
       "    <tr>\n",
       "      <th>delinq_2yrs</th>\n",
       "      <td>414244.0</td>\n",
       "      <td>0.296031</td>\n",
       "      <td>0.816788</td>\n",
       "      <td>0.00</td>\n",
       "      <td>0.0000</td>\n",
       "      <td>0.0000</td>\n",
       "      <td>0.0000</td>\n",
       "      <td>2.900000e+01</td>\n",
       "    </tr>\n",
       "    <tr>\n",
       "      <th>inq_last_6mths</th>\n",
       "      <td>414244.0</td>\n",
       "      <td>0.781916</td>\n",
       "      <td>1.036362</td>\n",
       "      <td>0.00</td>\n",
       "      <td>0.0000</td>\n",
       "      <td>0.0000</td>\n",
       "      <td>1.0000</td>\n",
       "      <td>8.000000e+00</td>\n",
       "    </tr>\n",
       "    <tr>\n",
       "      <th>open_acc</th>\n",
       "      <td>414244.0</td>\n",
       "      <td>11.350354</td>\n",
       "      <td>4.986146</td>\n",
       "      <td>0.00</td>\n",
       "      <td>8.0000</td>\n",
       "      <td>11.0000</td>\n",
       "      <td>14.0000</td>\n",
       "      <td>8.400000e+01</td>\n",
       "    </tr>\n",
       "    <tr>\n",
       "      <th>pub_rec</th>\n",
       "      <td>414244.0</td>\n",
       "      <td>0.171054</td>\n",
       "      <td>0.529090</td>\n",
       "      <td>0.00</td>\n",
       "      <td>0.0000</td>\n",
       "      <td>0.0000</td>\n",
       "      <td>0.0000</td>\n",
       "      <td>6.300000e+01</td>\n",
       "    </tr>\n",
       "    <tr>\n",
       "      <th>revol_bal</th>\n",
       "      <td>414244.0</td>\n",
       "      <td>16295.121257</td>\n",
       "      <td>20349.604546</td>\n",
       "      <td>0.00</td>\n",
       "      <td>6633.0000</td>\n",
       "      <td>11933.0000</td>\n",
       "      <td>20425.2500</td>\n",
       "      <td>2.568995e+06</td>\n",
       "    </tr>\n",
       "    <tr>\n",
       "      <th>total_acc</th>\n",
       "      <td>414244.0</td>\n",
       "      <td>25.339824</td>\n",
       "      <td>11.565653</td>\n",
       "      <td>2.00</td>\n",
       "      <td>17.0000</td>\n",
       "      <td>24.0000</td>\n",
       "      <td>32.0000</td>\n",
       "      <td>1.560000e+02</td>\n",
       "    </tr>\n",
       "    <tr>\n",
       "      <th>avg_cur_bal</th>\n",
       "      <td>386491.0</td>\n",
       "      <td>13529.770535</td>\n",
       "      <td>16157.582636</td>\n",
       "      <td>0.00</td>\n",
       "      <td>3049.0000</td>\n",
       "      <td>7556.0000</td>\n",
       "      <td>19056.5000</td>\n",
       "      <td>9.580840e+05</td>\n",
       "    </tr>\n",
       "    <tr>\n",
       "      <th>bc_util</th>\n",
       "      <td>402623.0</td>\n",
       "      <td>65.490587</td>\n",
       "      <td>26.352779</td>\n",
       "      <td>0.00</td>\n",
       "      <td>47.2000</td>\n",
       "      <td>70.2000</td>\n",
       "      <td>88.1000</td>\n",
       "      <td>3.396000e+02</td>\n",
       "    </tr>\n",
       "    <tr>\n",
       "      <th>chargeoff_within_12_mths</th>\n",
       "      <td>414244.0</td>\n",
       "      <td>0.008283</td>\n",
       "      <td>0.102811</td>\n",
       "      <td>0.00</td>\n",
       "      <td>0.0000</td>\n",
       "      <td>0.0000</td>\n",
       "      <td>0.0000</td>\n",
       "      <td>7.000000e+00</td>\n",
       "    </tr>\n",
       "    <tr>\n",
       "      <th>delinq_amnt</th>\n",
       "      <td>414244.0</td>\n",
       "      <td>9.509929</td>\n",
       "      <td>566.754376</td>\n",
       "      <td>0.00</td>\n",
       "      <td>0.0000</td>\n",
       "      <td>0.0000</td>\n",
       "      <td>0.0000</td>\n",
       "      <td>7.007600e+04</td>\n",
       "    </tr>\n",
       "    <tr>\n",
       "      <th>mort_acc</th>\n",
       "      <td>406749.0</td>\n",
       "      <td>1.830313</td>\n",
       "      <td>2.177486</td>\n",
       "      <td>0.00</td>\n",
       "      <td>0.0000</td>\n",
       "      <td>1.0000</td>\n",
       "      <td>3.0000</td>\n",
       "      <td>3.700000e+01</td>\n",
       "    </tr>\n",
       "    <tr>\n",
       "      <th>num_accts_ever_120_pd</th>\n",
       "      <td>386503.0</td>\n",
       "      <td>0.433609</td>\n",
       "      <td>1.153133</td>\n",
       "      <td>0.00</td>\n",
       "      <td>0.0000</td>\n",
       "      <td>0.0000</td>\n",
       "      <td>0.0000</td>\n",
       "      <td>3.300000e+01</td>\n",
       "    </tr>\n",
       "    <tr>\n",
       "      <th>num_bc_sats</th>\n",
       "      <td>398189.0</td>\n",
       "      <td>4.649601</td>\n",
       "      <td>2.623274</td>\n",
       "      <td>0.00</td>\n",
       "      <td>3.0000</td>\n",
       "      <td>4.0000</td>\n",
       "      <td>6.0000</td>\n",
       "      <td>3.500000e+01</td>\n",
       "    </tr>\n",
       "    <tr>\n",
       "      <th>num_sats</th>\n",
       "      <td>398189.0</td>\n",
       "      <td>11.372697</td>\n",
       "      <td>5.001202</td>\n",
       "      <td>0.00</td>\n",
       "      <td>8.0000</td>\n",
       "      <td>11.0000</td>\n",
       "      <td>14.0000</td>\n",
       "      <td>8.400000e+01</td>\n",
       "    </tr>\n",
       "    <tr>\n",
       "      <th>pct_tl_nvr_dlq</th>\n",
       "      <td>386350.0</td>\n",
       "      <td>94.713566</td>\n",
       "      <td>8.063579</td>\n",
       "      <td>15.00</td>\n",
       "      <td>92.0000</td>\n",
       "      <td>100.0000</td>\n",
       "      <td>100.0000</td>\n",
       "      <td>1.000000e+02</td>\n",
       "    </tr>\n",
       "    <tr>\n",
       "      <th>percent_bc_gt_75</th>\n",
       "      <td>402751.0</td>\n",
       "      <td>51.848828</td>\n",
       "      <td>34.622748</td>\n",
       "      <td>0.00</td>\n",
       "      <td>25.0000</td>\n",
       "      <td>50.0000</td>\n",
       "      <td>80.0000</td>\n",
       "      <td>1.000000e+02</td>\n",
       "    </tr>\n",
       "    <tr>\n",
       "      <th>pub_rec_bankruptcies</th>\n",
       "      <td>414244.0</td>\n",
       "      <td>0.113525</td>\n",
       "      <td>0.342947</td>\n",
       "      <td>0.00</td>\n",
       "      <td>0.0000</td>\n",
       "      <td>0.0000</td>\n",
       "      <td>0.0000</td>\n",
       "      <td>1.200000e+01</td>\n",
       "    </tr>\n",
       "    <tr>\n",
       "      <th>tax_liens</th>\n",
       "      <td>414244.0</td>\n",
       "      <td>0.036710</td>\n",
       "      <td>0.344480</td>\n",
       "      <td>0.00</td>\n",
       "      <td>0.0000</td>\n",
       "      <td>0.0000</td>\n",
       "      <td>0.0000</td>\n",
       "      <td>6.300000e+01</td>\n",
       "    </tr>\n",
       "    <tr>\n",
       "      <th>total_bal_ex_mort</th>\n",
       "      <td>406749.0</td>\n",
       "      <td>45729.454130</td>\n",
       "      <td>43409.468362</td>\n",
       "      <td>0.00</td>\n",
       "      <td>19755.0000</td>\n",
       "      <td>34778.0000</td>\n",
       "      <td>57390.0000</td>\n",
       "      <td>2.688920e+06</td>\n",
       "    </tr>\n",
       "    <tr>\n",
       "      <th>months</th>\n",
       "      <td>413951.0</td>\n",
       "      <td>26.534107</td>\n",
       "      <td>13.677559</td>\n",
       "      <td>0.00</td>\n",
       "      <td>15.0000</td>\n",
       "      <td>27.0000</td>\n",
       "      <td>37.0000</td>\n",
       "      <td>6.800000e+01</td>\n",
       "    </tr>\n",
       "  </tbody>\n",
       "</table>\n",
       "</div>"
      ],
      "text/plain": [
       "                             count          mean           std      min  \\\n",
       "loan_amnt                 414244.0  14515.856355   8277.673972  1000.00   \n",
       "int_rate                  414244.0      0.139596      0.043893     0.06   \n",
       "installment               414244.0    442.071398    245.083377     4.93   \n",
       "annual_inc                414244.0  73538.627097  53597.766091  3000.00   \n",
       "dti                       414244.0     17.547675      7.836204     0.00   \n",
       "delinq_2yrs               414244.0      0.296031      0.816788     0.00   \n",
       "inq_last_6mths            414244.0      0.781916      1.036362     0.00   \n",
       "open_acc                  414244.0     11.350354      4.986146     0.00   \n",
       "pub_rec                   414244.0      0.171054      0.529090     0.00   \n",
       "revol_bal                 414244.0  16295.121257  20349.604546     0.00   \n",
       "total_acc                 414244.0     25.339824     11.565653     2.00   \n",
       "avg_cur_bal               386491.0  13529.770535  16157.582636     0.00   \n",
       "bc_util                   402623.0     65.490587     26.352779     0.00   \n",
       "chargeoff_within_12_mths  414244.0      0.008283      0.102811     0.00   \n",
       "delinq_amnt               414244.0      9.509929    566.754376     0.00   \n",
       "mort_acc                  406749.0      1.830313      2.177486     0.00   \n",
       "num_accts_ever_120_pd     386503.0      0.433609      1.153133     0.00   \n",
       "num_bc_sats               398189.0      4.649601      2.623274     0.00   \n",
       "num_sats                  398189.0     11.372697      5.001202     0.00   \n",
       "pct_tl_nvr_dlq            386350.0     94.713566      8.063579    15.00   \n",
       "percent_bc_gt_75          402751.0     51.848828     34.622748     0.00   \n",
       "pub_rec_bankruptcies      414244.0      0.113525      0.342947     0.00   \n",
       "tax_liens                 414244.0      0.036710      0.344480     0.00   \n",
       "total_bal_ex_mort         406749.0  45729.454130  43409.468362     0.00   \n",
       "months                    413951.0     26.534107     13.677559     0.00   \n",
       "\n",
       "                                 25%         50%         75%           max  \n",
       "loan_amnt                  8000.0000  12500.0000  20000.0000  3.500000e+04  \n",
       "int_rate                      0.1099      0.1368      0.1678  2.606000e-01  \n",
       "installment                 265.6800    388.1400    578.2800  1.409990e+03  \n",
       "annual_inc                45000.0000  63000.0000  89033.0000  7.500000e+06  \n",
       "dti                          11.6700     17.1800     23.1600  3.999000e+01  \n",
       "delinq_2yrs                   0.0000      0.0000      0.0000  2.900000e+01  \n",
       "inq_last_6mths                0.0000      0.0000      1.0000  8.000000e+00  \n",
       "open_acc                      8.0000     11.0000     14.0000  8.400000e+01  \n",
       "pub_rec                       0.0000      0.0000      0.0000  6.300000e+01  \n",
       "revol_bal                  6633.0000  11933.0000  20425.2500  2.568995e+06  \n",
       "total_acc                    17.0000     24.0000     32.0000  1.560000e+02  \n",
       "avg_cur_bal                3049.0000   7556.0000  19056.5000  9.580840e+05  \n",
       "bc_util                      47.2000     70.2000     88.1000  3.396000e+02  \n",
       "chargeoff_within_12_mths      0.0000      0.0000      0.0000  7.000000e+00  \n",
       "delinq_amnt                   0.0000      0.0000      0.0000  7.007600e+04  \n",
       "mort_acc                      0.0000      1.0000      3.0000  3.700000e+01  \n",
       "num_accts_ever_120_pd         0.0000      0.0000      0.0000  3.300000e+01  \n",
       "num_bc_sats                   3.0000      4.0000      6.0000  3.500000e+01  \n",
       "num_sats                      8.0000     11.0000     14.0000  8.400000e+01  \n",
       "pct_tl_nvr_dlq               92.0000    100.0000    100.0000  1.000000e+02  \n",
       "percent_bc_gt_75             25.0000     50.0000     80.0000  1.000000e+02  \n",
       "pub_rec_bankruptcies          0.0000      0.0000      0.0000  1.200000e+01  \n",
       "tax_liens                     0.0000      0.0000      0.0000  6.300000e+01  \n",
       "total_bal_ex_mort         19755.0000  34778.0000  57390.0000  2.688920e+06  \n",
       "months                       15.0000     27.0000     37.0000  6.800000e+01  "
      ]
     },
     "execution_count": 42,
     "metadata": {},
     "output_type": "execute_result"
    }
   ],
   "source": [
    "numbers.describe().T#we describe the numbers dataframe to know what kind of strategy we will use to impute missing values\n",
    "#We decided to use the median value to impute for the missing values"
   ]
  },
  {
   "cell_type": "code",
   "execution_count": 43,
   "metadata": {},
   "outputs": [
    {
     "name": "stdout",
     "output_type": "stream",
     "text": [
      "loan_amnt (0.9445400834083557, 0.0)\n",
      "int_rate (0.9839239716529846, 0.0)\n",
      "installment (0.9415225982666016, 0.0)\n",
      "annual_inc (0.5713726878166199, 0.0)\n",
      "dti (0.9908382892608643, 0.0)\n",
      "delinq_2yrs (0.4054153561592102, 0.0)\n",
      "inq_last_6mths (0.7484458684921265, 0.0)\n",
      "open_acc (0.9344494938850403, 0.0)\n",
      "pub_rec (0.3362157344818115, 0.0)\n",
      "revol_bal (0.4795900583267212, 0.0)\n",
      "total_acc (0.9619814157485962, 0.0)\n",
      "avg_cur_bal (nan, 1.0)\n",
      "bc_util (nan, 1.0)\n",
      "chargeoff_within_12_mths (0.05297893285751343, 0.0)\n",
      "delinq_amnt (0.003963887691497803, 0.0)\n",
      "mort_acc (nan, 1.0)\n",
      "num_accts_ever_120_pd (nan, 1.0)\n",
      "num_bc_sats (nan, 1.0)\n",
      "num_sats (nan, 1.0)\n",
      "pct_tl_nvr_dlq (nan, 1.0)\n",
      "percent_bc_gt_75 (nan, 1.0)\n",
      "pub_rec_bankruptcies (0.3526045083999634, 0.0)\n",
      "tax_liens (0.07871139049530029, 0.0)\n",
      "total_bal_ex_mort (nan, 1.0)\n",
      "months (nan, 1.0)\n"
     ]
    }
   ],
   "source": [
    "from scipy import stats\n",
    "cols = ['loan_amnt', 'int_rate', 'installment', 'annual_inc', 'dti',\n",
    "       'delinq_2yrs', 'inq_last_6mths', 'open_acc', 'pub_rec', 'revol_bal',\n",
    "       'total_acc', 'avg_cur_bal', 'bc_util', 'chargeoff_within_12_mths',\n",
    "       'delinq_amnt', 'mort_acc', 'num_accts_ever_120_pd', 'num_bc_sats',\n",
    "       'num_sats', 'pct_tl_nvr_dlq', 'percent_bc_gt_75',\n",
    "       'pub_rec_bankruptcies', 'tax_liens', 'total_bal_ex_mort','months']\n",
    "for col in cols:\n",
    "    print(col ,stats.shapiro(numbers[col]))"
   ]
  },
  {
   "cell_type": "markdown",
   "metadata": {},
   "source": [
    "# Assessment:\n",
    "\n",
    "All numerical variables does not follow normal distribution that is why we will use their MEDIAN to impute those missing values."
   ]
  },
  {
   "cell_type": "code",
   "execution_count": 44,
   "metadata": {},
   "outputs": [
    {
     "data": {
      "text/plain": [
       "loan_amnt                   0\n",
       "int_rate                    0\n",
       "installment                 0\n",
       "annual_inc                  0\n",
       "dti                         0\n",
       "delinq_2yrs                 0\n",
       "inq_last_6mths              0\n",
       "open_acc                    0\n",
       "pub_rec                     0\n",
       "revol_bal                   0\n",
       "total_acc                   0\n",
       "avg_cur_bal                 0\n",
       "bc_util                     0\n",
       "chargeoff_within_12_mths    0\n",
       "delinq_amnt                 0\n",
       "mort_acc                    0\n",
       "num_accts_ever_120_pd       0\n",
       "num_bc_sats                 0\n",
       "num_sats                    0\n",
       "pct_tl_nvr_dlq              0\n",
       "percent_bc_gt_75            0\n",
       "pub_rec_bankruptcies        0\n",
       "tax_liens                   0\n",
       "total_bal_ex_mort           0\n",
       "months                      0\n",
       "dtype: int64"
      ]
     },
     "execution_count": 44,
     "metadata": {},
     "output_type": "execute_result"
    }
   ],
   "source": [
    "### Impute mean values for all the columns selected\n",
    "cols = ['avg_cur_bal', 'bc_util','mort_acc','num_accts_ever_120_pd','num_bc_sats','num_sats','pct_tl_nvr_dlq','percent_bc_gt_75','total_bal_ex_mort','months']\n",
    "\n",
    "imp_mean = SimpleImputer(missing_values = np.nan, strategy = 'median')\n",
    "numbers[cols] = imp_mean.fit_transform(numbers[cols])\n",
    "numbers.isna().sum()\n",
    "#numbers.columns\n"
   ]
  },
  {
   "cell_type": "code",
   "execution_count": 45,
   "metadata": {},
   "outputs": [
    {
     "data": {
      "text/plain": [
       "(414244, 25)"
      ]
     },
     "execution_count": 45,
     "metadata": {},
     "output_type": "execute_result"
    }
   ],
   "source": [
    "numbers.to_csv('surv1.csv')\n",
    "numbers.shape"
   ]
  },
  {
   "cell_type": "code",
   "execution_count": 43,
   "metadata": {},
   "outputs": [],
   "source": [
    "#Standard Scaler\n",
    "#cols = ['loan_amnt', 'int_rate', 'installment', 'annual_inc', 'dti',\n",
    "#       'delinq_2yrs', 'inq_last_6mths', 'open_acc', 'pub_rec', 'revol_bal',\n",
    "#       'total_acc', 'avg_cur_bal', 'bc_util', 'chargeoff_within_12_mths',\n",
    "#       'delinq_amnt', 'mort_acc', 'num_accts_ever_120_pd', 'num_bc_sats',\n",
    "#       'num_sats', 'pct_tl_nvr_dlq', 'percent_bc_gt_75',\n",
    "#       'pub_rec_bankruptcies', 'tax_liens', 'total_bal_ex_mort','months']\n",
    "#scaler = StandardScaler()\n",
    "#scaled_data = pd.DataFrame(data = scaler.fit_transform(numbers),columns = cols)\n",
    "#scaled_data.head()"
   ]
  },
  {
   "cell_type": "code",
   "execution_count": 46,
   "metadata": {},
   "outputs": [
    {
     "data": {
      "image/png": "[encoded data removed]",
      "text/plain": [
       "<Figure size 1080x864 with 2 Axes>"
      ]
     },
     "metadata": {},
     "output_type": "display_data"
    }
   ],
   "source": [
    "mask = np.zeros_like(numbers.corr())\n",
    "mask[np.triu_indices_from(mask)] = True\n",
    "plt.subplots(figsize = (15,12))\n",
    "sns.heatmap(numbers.corr(), \n",
    "            annot=True,\n",
    "            mask = mask,\n",
    "            cmap = 'RdBu_r',\n",
    "            linewidths=0.1, \n",
    "            linecolor='white',\n",
    "            vmax = .9,\n",
    "            square=True)\n",
    "plt.title(\"Correlations Among Features\", y = 1.03,fontsize = 20);"
   ]
  },
  {
   "cell_type": "markdown",
   "metadata": {},
   "source": [
    "# Assessment:\n",
    "\n",
    "We can see that there still exists a strong correlations (Correlation which is between 0.60-0.80) between some variables. We need to remove this predictors to avoid multicollinearity in our final dataset that we will be using for classification."
   ]
  },
  {
   "cell_type": "code",
   "execution_count": 47,
   "metadata": {},
   "outputs": [
    {
     "data": {
      "text/plain": [
       "Index(['loan_amnt', 'int_rate', 'annual_inc', 'dti', 'delinq_2yrs',\n",
       "       'inq_last_6mths', 'revol_bal', 'total_acc', 'avg_cur_bal', 'bc_util',\n",
       "       'chargeoff_within_12_mths', 'delinq_amnt', 'mort_acc',\n",
       "       'num_accts_ever_120_pd', 'num_bc_sats', 'pct_tl_nvr_dlq',\n",
       "       'pub_rec_bankruptcies', 'tax_liens', 'total_bal_ex_mort', 'months'],\n",
       "      dtype='object')"
      ]
     },
     "execution_count": 47,
     "metadata": {},
     "output_type": "execute_result"
    }
   ],
   "source": [
    "cols = ['installment','pub_rec','percent_bc_gt_75','num_sats','open_acc']\n",
    "numbers  = numbers.drop(cols, axis = 1)\n",
    "numbers.columns"
   ]
  },
  {
   "cell_type": "code",
   "execution_count": 48,
   "metadata": {},
   "outputs": [],
   "source": [
    "numbers.to_csv('surv1.csv')"
   ]
  },
  {
   "cell_type": "code",
   "execution_count": 49,
   "metadata": {
    "scrolled": true
   },
   "outputs": [
    {
     "data": {
      "text/plain": [
       "term                    0\n",
       "grade                   0\n",
       "emp_length              0\n",
       "home_ownership          0\n",
       "verification_status     0\n",
       "issue_d                 0\n",
       "loan_status             0\n",
       "purpose                 0\n",
       "addr_state              0\n",
       "debt_settlement_flag    0\n",
       "issue_year              0\n",
       "region                  0\n",
       "dtype: int64"
      ]
     },
     "execution_count": 49,
     "metadata": {},
     "output_type": "execute_result"
    }
   ],
   "source": [
    "objcts.isna().sum() # No missing values for my categorical feature"
   ]
  },
  {
   "cell_type": "code",
   "execution_count": 50,
   "metadata": {},
   "outputs": [
    {
     "data": {
      "text/plain": [
       "0    Fully Paid\n",
       "1    Fully Paid\n",
       "2    Fully Paid\n",
       "3    Fully Paid\n",
       "4       Default\n",
       "Name: loan_status, dtype: object"
      ]
     },
     "execution_count": 50,
     "metadata": {},
     "output_type": "execute_result"
    }
   ],
   "source": [
    "objcts.home_ownership.replace('NONE','OTHER',inplace = True)\n",
    "objcts.home_ownership.replace('ANY','OTHER',inplace = True)\n",
    "objcts.home_ownership.value_counts()\n",
    "objcts.columns\n",
    "target = objcts.loan_status\n",
    "target.head()"
   ]
  },
  {
   "cell_type": "code",
   "execution_count": 49,
   "metadata": {},
   "outputs": [
    {
     "name": "stdout",
     "output_type": "stream",
     "text": [
      "(414244, 13) (414244,)\n"
     ]
    }
   ],
   "source": [
    "print(objcts.shape,target.shape)"
   ]
  },
  {
   "cell_type": "markdown",
   "metadata": {},
   "source": [
    "Created dummy variables for my categorical features and combining it to standardized numerical feature."
   ]
  },
  {
   "cell_type": "code",
   "execution_count": 51,
   "metadata": {},
   "outputs": [],
   "source": [
    "cat_vars=['term','emp_length','home_ownership','verification_status','purpose','region','debt_settlement_flag','grade']\n",
    "for var in cat_vars:\n",
    "    cat_list='var'+'_'+var\n",
    "    cat_list = pd.get_dummies(objcts[var], prefix=var)\n",
    "    obj1=objcts.join(cat_list)\n",
    "    objcts=obj1\n",
    "cat_vars=['term','emp_length','home_ownership','verification_status','purpose','region','debt_settlement_flag','grade']\n",
    "data_vars=numbers.columns.values.tolist()\n"
   ]
  },
  {
   "cell_type": "code",
   "execution_count": 51,
   "metadata": {},
   "outputs": [
    {
     "data": {
      "text/plain": [
       "2    122880\n",
       "3    113538\n",
       "4     68166\n",
       "1     64476\n",
       "5     30947\n",
       "6     11548\n",
       "7      2689\n",
       "Name: grade, dtype: int64"
      ]
     },
     "execution_count": 51,
     "metadata": {},
     "output_type": "execute_result"
    }
   ],
   "source": [
    "#Since grade is an ordinal data type, we didn't create a dummy variable for this, instead we will apply KBinsdiscretizer\n",
    "#cols = ['grade']\n",
    "#est = KBinsDiscretizer(n_bins=7, encode='ordinal', strategy='quantile')\n",
    "#objcts[cols] = est.fit(objcts[cols])\n",
    "objcts.grade.replace('A',1,inplace = True)\n",
    "objcts.grade.replace('B',2,inplace = True)\n",
    "objcts.grade.replace('C',3,inplace = True)\n",
    "objcts.grade.replace('D',4,inplace = True)\n",
    "objcts.grade.replace('E',5,inplace = True)\n",
    "objcts.grade.replace('F',6,inplace = True)\n",
    "objcts.grade.replace('G',7,inplace = True)\n",
    "objcts.grade.value_counts()"
   ]
  },
  {
   "cell_type": "code",
   "execution_count": 53,
   "metadata": {},
   "outputs": [],
   "source": [
    "#objcts.to_csv('surv2.csv')\n",
    "y = pd.DataFrame(target) \n",
    "y.to_csv('target.csv')"
   ]
  },
  {
   "cell_type": "code",
   "execution_count": 54,
   "metadata": {},
   "outputs": [
    {
     "name": "stdout",
     "output_type": "stream",
     "text": [
      "(414244, 63)\n"
     ]
    },
    {
     "data": {
      "text/plain": [
       "Index(['loan_amnt', 'int_rate', 'annual_inc', 'dti', 'delinq_2yrs',\n",
       "       'inq_last_6mths', 'revol_bal', 'total_acc', 'avg_cur_bal', 'bc_util',\n",
       "       'chargeoff_within_12_mths', 'delinq_amnt', 'mort_acc',\n",
       "       'num_accts_ever_120_pd', 'num_bc_sats', 'pct_tl_nvr_dlq',\n",
       "       'pub_rec_bankruptcies', 'tax_liens', 'total_bal_ex_mort', 'months',\n",
       "       'term', 'grade', 'emp_length', 'home_ownership', 'verification_status',\n",
       "       'issue_d', 'loan_status', 'purpose', 'addr_state',\n",
       "       'debt_settlement_flag', 'issue_year', 'region', 'term_ 36 months',\n",
       "       'term_ 60 months', 'emp_length_0-3 years', 'emp_length_4-7 years',\n",
       "       'emp_length_8-10 years', 'home_ownership_MORTGAGE',\n",
       "       'home_ownership_OTHER', 'home_ownership_OWN', 'home_ownership_RENT',\n",
       "       'verification_status_Not Verified',\n",
       "       'verification_status_Source Verified', 'verification_status_Verified',\n",
       "       'purpose_Other', 'purpose_credit_card', 'purpose_debt_consolidation',\n",
       "       'purpose_home_improvement', 'purpose_major_purchase', 'region_MidWest',\n",
       "       'region_NorthEast', 'region_SouthEast', 'region_SouthWest',\n",
       "       'region_West', 'debt_settlement_flag_N', 'debt_settlement_flag_Y',\n",
       "       'grade_A', 'grade_B', 'grade_C', 'grade_D', 'grade_E', 'grade_F',\n",
       "       'grade_G'],\n",
       "      dtype='object')"
      ]
     },
     "execution_count": 54,
     "metadata": {},
     "output_type": "execute_result"
    }
   ],
   "source": [
    "fd = numbers.join(objcts) #fd stands for final data\n",
    "fd.sample(5)\n",
    "print(fd.shape)\n",
    "fd.columns"
   ]
  },
  {
   "cell_type": "code",
   "execution_count": 55,
   "metadata": {},
   "outputs": [
    {
     "name": "stdout",
     "output_type": "stream",
     "text": [
      "(414244, 51) (414244, 1)\n"
     ]
    }
   ],
   "source": [
    "#removing the original columns and retaining the created dummy columns for classification\n",
    "removed=['term','emp_length','home_ownership','verification_status','purpose','region','initial_list_status','debt_settlement_flag','loan_status','issue_year','issue_d','addr_state','grade']\n",
    "to_keep = [i for i in fd if i not in removed]\n",
    "X = fd[to_keep]\n",
    "y = pd.DataFrame(target)\n",
    "print(X.shape, y.shape)"
   ]
  },
  {
   "cell_type": "code",
   "execution_count": null,
   "metadata": {},
   "outputs": [],
   "source": []
  },
  {
   "cell_type": "code",
   "execution_count": 56,
   "metadata": {},
   "outputs": [],
   "source": [
    "#Separating the target variable from the predictors\n",
    "y.loan_status.replace('Fully Paid', 0, inplace = True)\n",
    "y.loan_status.replace('Default', 1, inplace = True)\n",
    "dfinal = X.join(y)\n",
    "dfinal = dfinal.dropna(axis = 0 , how = 'any')\n",
    "X = dfinal.loc[:, dfinal.columns != 'loan_status']\n",
    "y = dfinal.loc[:, dfinal.columns == 'loan_status']"
   ]
  },
  {
   "cell_type": "code",
   "execution_count": 57,
   "metadata": {},
   "outputs": [
    {
     "name": "stdout",
     "output_type": "stream",
     "text": [
      "Index(['loan_amnt', 'int_rate', 'annual_inc', 'dti', 'delinq_2yrs',\n",
      "       'inq_last_6mths', 'revol_bal', 'total_acc', 'avg_cur_bal', 'bc_util',\n",
      "       'chargeoff_within_12_mths', 'delinq_amnt', 'mort_acc',\n",
      "       'num_accts_ever_120_pd', 'num_bc_sats', 'pct_tl_nvr_dlq',\n",
      "       'pub_rec_bankruptcies', 'tax_liens', 'total_bal_ex_mort', 'months',\n",
      "       'term_ 36 months', 'term_ 60 months', 'emp_length_0-3 years',\n",
      "       'emp_length_4-7 years', 'emp_length_8-10 years',\n",
      "       'home_ownership_MORTGAGE', 'home_ownership_OTHER', 'home_ownership_OWN',\n",
      "       'home_ownership_RENT', 'verification_status_Not Verified',\n",
      "       'verification_status_Source Verified', 'verification_status_Verified',\n",
      "       'purpose_Other', 'purpose_credit_card', 'purpose_debt_consolidation',\n",
      "       'purpose_home_improvement', 'purpose_major_purchase', 'region_MidWest',\n",
      "       'region_NorthEast', 'region_SouthEast', 'region_SouthWest',\n",
      "       'region_West', 'debt_settlement_flag_N', 'debt_settlement_flag_Y',\n",
      "       'grade_A', 'grade_B', 'grade_C', 'grade_D', 'grade_E', 'grade_F',\n",
      "       'grade_G', 'loan_status'],\n",
      "      dtype='object')\n"
     ]
    },
    {
     "data": {
      "text/plain": [
       "(414244, 52)"
      ]
     },
     "execution_count": 57,
     "metadata": {},
     "output_type": "execute_result"
    }
   ],
   "source": [
    "print(dfinal.columns)\n",
    "dfinal.shape"
   ]
  },
  {
   "cell_type": "code",
   "execution_count": 58,
   "metadata": {},
   "outputs": [],
   "source": [
    "dfinal.to_csv('survival.csv')"
   ]
  },
  {
   "cell_type": "markdown",
   "metadata": {},
   "source": [
    "# Oversampling Using SMOTE\n",
    "\n",
    "I created a synthethic data points to make the number of bad loans equal to good loans so the model will not be bias in predicting and not just favor good loans only."
   ]
  },
  {
   "cell_type": "code",
   "execution_count": 59,
   "metadata": {},
   "outputs": [],
   "source": [
    "from imblearn.over_sampling import SMOTE\n",
    "os = SMOTE(random_state=0)"
   ]
  },
  {
   "cell_type": "code",
   "execution_count": 60,
   "metadata": {},
   "outputs": [],
   "source": [
    "#train test split\n",
    "X_train, X_test, y_train, y_test = train_test_split(X, y, test_size=0.2, random_state=0)\n",
    "columns = X_train.columns"
   ]
  },
  {
   "cell_type": "code",
   "execution_count": 61,
   "metadata": {},
   "outputs": [],
   "source": [
    "os_data_X, os_data_y = os.fit_sample(X_train, y_train)\n",
    "os_data_X = pd.DataFrame(data=os_data_X,columns=columns)\n",
    "os_data_y= pd.DataFrame(data=os_data_y,columns=['loan_status'])"
   ]
  },
  {
   "cell_type": "code",
   "execution_count": 62,
   "metadata": {},
   "outputs": [
    {
     "name": "stdout",
     "output_type": "stream",
     "text": [
      "length of oversampled data is  549098\n",
      "Number of Fully paid in oversampled data 274549\n",
      "Number of Default 274549\n",
      "Proportion of no subscription data in oversampled data is  0.5\n",
      "Proportion of subscription data in oversampled data is  0.5\n"
     ]
    }
   ],
   "source": [
    "print(\"length of oversampled data is \",len(os_data_X))\n",
    "print(\"Number of Fully paid in oversampled data\",len(os_data_y[os_data_y['loan_status']==0]))\n",
    "print(\"Number of Default\",len(os_data_y[os_data_y['loan_status']==1]))\n",
    "print(\"Proportion of no subscription data in oversampled data is \",len(os_data_y[os_data_y['loan_status']==0])/len(os_data_X))\n",
    "print(\"Proportion of subscription data in oversampled data is \",len(os_data_y[os_data_y['loan_status']==1])/len(os_data_X))"
   ]
  },
  {
   "cell_type": "code",
   "execution_count": 67,
   "metadata": {},
   "outputs": [
    {
     "data": {
      "text/plain": [
       "(549098, 51)"
      ]
     },
     "execution_count": 67,
     "metadata": {},
     "output_type": "execute_result"
    }
   ],
   "source": [
    "os_data_X.shape"
   ]
  },
  {
   "cell_type": "code",
   "execution_count": 65,
   "metadata": {
    "collapsed": true
   },
   "outputs": [
    {
     "data": {
      "text/plain": [
       "loan_status    0\n",
       "dtype: int64"
      ]
     },
     "execution_count": 65,
     "metadata": {},
     "output_type": "execute_result"
    }
   ],
   "source": []
  },
  {
   "cell_type": "markdown",
   "metadata": {},
   "source": [
    "# Model Building"
   ]
  },
  {
   "cell_type": "code",
   "execution_count": 66,
   "metadata": {},
   "outputs": [],
   "source": [
    "def print_confusion_matrix(confusion_matrix, class_names, figsize = (10,7), fontsize=14):\n",
    "    \"\"\"Prints a confusion matrix, as returned by sklearn.metrics.confusion_matrix, as a heatmap.\n",
    "    \n",
    "    Arguments\n",
    "    ---------\n",
    "    confusion_matrix: numpy.ndarray\n",
    "        The numpy.ndarray object returned from a call to sklearn.metrics.confusion_matrix. \n",
    "        Similarly constructed ndarrays can also be used.\n",
    "    class_names: list\n",
    "        An ordered list of class names, in the order they index the given confusion matrix.\n",
    "    figsize: tuple\n",
    "        A 2-long tuple, the first value determining the horizontal size of the ouputted figure,\n",
    "        the second determining the vertical size. Defaults to (10,7).\n",
    "    fontsize: int\n",
    "        Font size for axes labels. Defaults to 14.\n",
    "        \n",
    "    Returns\n",
    "    -------\n",
    "    matplotlib.figure.Figure\n",
    "        The resulting confusion matrix figure\n",
    "    \"\"\"\n",
    "    df_cm = pd.DataFrame(\n",
    "        confusion_matrix, index=class_names, columns=class_names, \n",
    "    )\n",
    "    fig = plt.figure(figsize=figsize)\n",
    "    try:\n",
    "        heatmap = sns.heatmap(df_cm, annot=True, fmt=\"d\")\n",
    "    except ValueError:\n",
    "        raise ValueError(\"Confusion matrix values must be integers.\")\n",
    "    heatmap.yaxis.set_ticklabels(heatmap.yaxis.get_ticklabels(), rotation=0, ha='right', fontsize=fontsize)\n",
    "    heatmap.xaxis.set_ticklabels(heatmap.xaxis.get_ticklabels(), rotation=45, ha='right', fontsize=fontsize)\n",
    "    plt.ylabel('True label')\n",
    "    plt.xlabel('Predicted label')\n",
    "    return fig"
   ]
  },
  {
   "cell_type": "code",
   "execution_count": 74,
   "metadata": {},
   "outputs": [
    {
     "name": "stdout",
     "output_type": "stream",
     "text": [
      "[False  True False False False False False False False False False False\n",
      " False False False False False False False False  True  True  True False\n",
      " False False False False  True  True False False False False False False\n",
      " False False False  True False False  True  True  True False  True  True\n",
      "  True  True  True]\n",
      "[14  1 18 10  5  9 17 13 16 13 18 15  2  6  9  7  8  8 19  3  1  1  1 16\n",
      "  3 10 19  4  1  1  4 11 12 12 11 17  6 15  7  1 14  2  1  1  1  5  1  1\n",
      "  1  1  1]\n"
     ]
    }
   ],
   "source": [
    "#Use Recursive Feature Elimination to reduce the number of predictors\n",
    "logreg = LogisticRegression(solver='lbfgs')\n",
    "rfe = RFE(logreg,15, step = 2)\n",
    "rfe = rfe.fit(os_data_X, os_data_y.values.ravel())\n",
    "print(rfe.support_)\n",
    "print(rfe.ranking_)"
   ]
  },
  {
   "cell_type": "code",
   "execution_count": 75,
   "metadata": {},
   "outputs": [
    {
     "data": {
      "text/plain": [
       "Index(['int_rate', 'term_ 36 months', 'term_ 60 months',\n",
       "       'emp_length_0-3 years', 'home_ownership_RENT',\n",
       "       'verification_status_Not Verified', 'region_SouthEast',\n",
       "       'debt_settlement_flag_N', 'debt_settlement_flag_Y', 'grade_A',\n",
       "       'grade_C', 'grade_D', 'grade_E', 'grade_F', 'grade_G'],\n",
       "      dtype='object')"
      ]
     },
     "execution_count": 75,
     "metadata": {},
     "output_type": "execute_result"
    }
   ],
   "source": [
    "os_data_X.columns[rfe.support_]"
   ]
  },
  {
   "cell_type": "code",
   "execution_count": 76,
   "metadata": {},
   "outputs": [],
   "source": [
    "cols=os_data_X.columns[rfe.support_]\n",
    "X=os_data_X[cols]\n",
    "y=os_data_y['loan_status']\n",
    "rf = RandomForestClassifier()\n"
   ]
  },
  {
   "cell_type": "code",
   "execution_count": 79,
   "metadata": {},
   "outputs": [
    {
     "name": "stdout",
     "output_type": "stream",
     "text": [
      "Fitting 5 folds for each of 5 candidates, totalling 25 fits\n"
     ]
    },
    {
     "name": "stderr",
     "output_type": "stream",
     "text": [
      "[Parallel(n_jobs=-1)]: Using backend LokyBackend with 4 concurrent workers.\n",
      "[Parallel(n_jobs=-1)]: Done  25 out of  25 | elapsed:  1.4min finished\n"
     ]
    },
    {
     "data": {
      "text/plain": [
       "RandomizedSearchCV(cv=5, error_score='raise-deprecating',\n",
       "          estimator=Pipeline(memory=None,\n",
       "     steps=[('scale', StandardScaler(copy=True, with_mean=True, with_std=True)), ('clf', RandomForestClassifier(bootstrap=True, class_weight=None, criterion='gini',\n",
       "            max_depth=None, max_features='auto', max_leaf_nodes=None,\n",
       "            min_impurity_decrease=0.0, min_impurity_split=None,\n",
       "      ...obs=None,\n",
       "            oob_score=False, random_state=None, verbose=0,\n",
       "            warm_start=False))]),\n",
       "          fit_params=None, iid='warn', n_iter=5, n_jobs=-1,\n",
       "          param_distributions={'clf__n_estimators': [10], 'clf__max_features': ['auto', 'sqrt'], 'clf__max_depth': [10, 20, 30, 40, 50], 'clf__min_samples_split': [2, 3, 5], 'clf__min_samples_leaf': [1, 2, 4], 'clf__bootstrap': [True, False]},\n",
       "          pre_dispatch='2*n_jobs', random_state=42, refit=True,\n",
       "          return_train_score='warn', scoring='accuracy', verbose=3)"
      ]
     },
     "execution_count": 79,
     "metadata": {},
     "output_type": "execute_result"
    }
   ],
   "source": [
    "from sklearn.pipeline import Pipeline\n",
    "from sklearn import feature_selection\n",
    "X_train, X_test, y_train, y_test = train_test_split(X, y, test_size=0.2, random_state=0)\n",
    "classifier = RandomForestClassifier()\n",
    "grid = {'clf__n_estimators': [int(x) for x in np.linspace(start = 10, stop = 20, num = 1)] ,\n",
    "               'clf__max_features': ['auto', 'sqrt'],\n",
    "               'clf__max_depth': [int(x) for x in np.linspace(10, 50, num = 5)],\n",
    "               'clf__min_samples_split': [2, 3, 5],\n",
    "               'clf__min_samples_leaf': [1,2,4],\n",
    "               'clf__bootstrap': [True, False]}\n",
    "scaler = StandardScaler()\n",
    "#selector = feature_selection.RFE(classifier)#implement rfe for each classifier\n",
    "pipe = Pipeline(steps = [('scale',scaler),('clf',classifier)])#scale and apply the classifier\n",
    "rand_search = RandomizedSearchCV(pipe, param_distributions=grid, n_iter=5, scoring='accuracy', n_jobs=-1,\n",
    "                                   cv=5, verbose=3, random_state=42)\n",
    "rand_search.fit(X_train, y_train)\n",
    "\n",
    "\n"
   ]
  },
  {
   "cell_type": "code",
   "execution_count": 80,
   "metadata": {},
   "outputs": [],
   "source": [
    "y_pred = rand_search.best_estimator_.predict(X_test)\n",
    "class_accuracy_score = round(accuracy_score(y_test,y_pred),3)"
   ]
  },
  {
   "cell_type": "markdown",
   "metadata": {},
   "source": [
    "Here is a function wherein all models used are performed together with other metrics and save it on a dataframe. I also created a pipeline wherein for every fold in the cross validation technique, I standardized the values in the data points to avoid data leakage in my model."
   ]
  },
  {
   "cell_type": "code",
   "execution_count": 77,
   "metadata": {},
   "outputs": [],
   "source": [
    "from sklearn.pipeline import Pipeline\n",
    "from sklearn import feature_selection\n",
    "X_train, X_test, y_train, y_test = train_test_split(X, y, test_size=0.2, random_state=0)\n",
    "classifiers = {\n",
    "    \"LogReg\": LogisticRegression(),\n",
    "    \"RandForest\": RandomForestClassifier(),\n",
    "    \"XGBoost\": XGBClassifier(learning_rate=0.02, n_estimators=10, objective='binary:logistic'),\n",
    "    \"GNB\": GaussianNB(),\n",
    "    \"Bagging\": BaggingClassifier(base_estimator= None),\n",
    "    \"Adaboost\": AdaBoostClassifier(base_estimator = None),\n",
    "}\n",
    "no_classifiers = len(classifiers.keys())\n",
    "\n",
    "grids = dict(logreg_grid = {'clf__penalty': ['l2','l1'],'clf__fit_intercept': [True, False]},\n",
    "rf_grid = {'clf__n_estimators': [int(x) for x in np.linspace(start = 10, stop = 20, num = 1)] ,\n",
    "               'clf__max_features': ['auto', 'sqrt'],\n",
    "               'clf__max_depth': [int(x) for x in np.linspace(10, 50, num = 5)],\n",
    "               'clf__min_samples_split': [2, 3, 5],\n",
    "               'clf__min_samples_leaf': [1,2,4],\n",
    "               'clf__bootstrap': [True, False]},\n",
    "xgb_grid = {'clf__min_child_weight': [1, 5, 10],\n",
    "        'clf__gamma': [0.5, 1, 1.5, 2, 5],\n",
    "        'clf__subsample': [0.6, 0.8, 1.0],\n",
    "        'clf__colsample_bytree': [0.6, 0.8, 1.0],\n",
    "        'clf__max_depth': [3, 4, 5]},\n",
    "gb_grid = {'clf__var_smoothing': [1e-9,1e-8, 1e-7]},\n",
    "bg_grid = {'clf__n_estimators':[30,50,70],\n",
    "          'clf__bootstrap_features': [True, False],\n",
    "          },\n",
    "adb_grid = {'clf__n_estimators':[30,50,70],\n",
    "           'clf__learning_rate':[0.02,0.01]})\n",
    "\n",
    "\n",
    "def batch_classify(X_train, y_train, X_test, y_test ,verbose = True):\n",
    "    df_results = pd.DataFrame(data=np.zeros(shape=(no_classifiers,8)), columns = ['classifier', 'train_score', 'test_score','accuracy_score','roc_auc_score','f1_score','Mean Absolute Error','RMSE'])\n",
    "    count = 0\n",
    "    #count2 = 0\n",
    "    for key, classifier in classifiers.items():\n",
    "        for key2, grid in grids.items():\n",
    "            scaler = StandardScaler()\n",
    "            #selector = feature_selection.RFE(classifier)#implement rfe for each classifier\n",
    "            pipe = Pipeline(steps = [('scale',scaler),('clf',classifier)])#scale and apply the classifier\n",
    "            if key is 'LogReg' and key2 is 'logreg_grid':\n",
    "                print(key,key2)\n",
    "                rand_search = RandomizedSearchCV(pipe, param_distributions=grid, n_iter=5, scoring='accuracy', n_jobs=-1,\n",
    "                                   cv=5, verbose=3, random_state=42)\n",
    "                rand_search.fit(X_train, y_train)\n",
    "                train_score = rand_search.best_estimator_.score(X_train, y_train)\n",
    "                test_score = rand_search.best_estimator_.score(X_test, y_test)\n",
    "                y_pred = rand_search.best_estimator_.predict(X_test)\n",
    "                class_accuracy_score = round(accuracy_score(y_test,y_pred),3)\n",
    "                class_rocauc_score = round(roc_auc_score(y_test,y_pred),3)\n",
    "                class_f1_score = round(f1_score(y_test,y_pred),3)\n",
    "                MAE = round(mean_absolute_error(y_test,y_pred),3)\n",
    "                RMSE = round(np.sqrt(mean_squared_error(y_test, y_pred)),3)\n",
    "                df_results.loc[count,'classifier'] = key\n",
    "                df_results.loc[count,'train_score'] = train_score\n",
    "                df_results.loc[count,'test_score'] = test_score\n",
    "                df_results.loc[count,'accuracy_score'] = class_accuracy_score\n",
    "                df_results.loc[count,'roc_auc_score'] = class_rocauc_score\n",
    "                df_results.loc[count,'f1_score'] = class_f1_score\n",
    "                df_results.loc[count,'Mean Absolute Error'] = MAE\n",
    "                df_results.loc[count,'RMSE'] = RMSE\n",
    "                count +=1\n",
    "                \n",
    "            elif key is 'RandForest' and key2 is 'rf_grid':\n",
    "                print(key,key2)\n",
    "                rand_search = RandomizedSearchCV(pipe, param_distributions=grid, n_iter=5, scoring='accuracy', n_jobs=-1,\n",
    "                                   cv=5, verbose=3, random_state=42)\n",
    "                rand_search.fit(X_train, y_train)\n",
    "                train_score = rand_search.best_estimator_.score(X_train, y_train)\n",
    "                test_score = rand_search.best_estimator_.score(X_test, y_test)\n",
    "                y_pred = rand_search.best_estimator_.predict(X_test)\n",
    "                class_accuracy_score = round(accuracy_score(y_test,y_pred),3)\n",
    "                class_rocauc_score = round(roc_auc_score(y_test,y_pred),3)\n",
    "                class_f1_score = round(f1_score(y_test,y_pred),3)\n",
    "                MAE = round(mean_absolute_error(y_test,y_pred),3)\n",
    "                RMSE = round(np.sqrt(mean_squared_error(y_test, y_pred)),3)\n",
    "                df_results.loc[count,'classifier'] = key\n",
    "                df_results.loc[count,'train_score'] = train_score\n",
    "                df_results.loc[count,'test_score'] = test_score\n",
    "                df_results.loc[count,'accuracy_score'] = class_accuracy_score\n",
    "                df_results.loc[count,'roc_auc_score'] = class_rocauc_score\n",
    "                df_results.loc[count,'f1_score'] = class_f1_score\n",
    "                df_results.loc[count,'Mean Absolute Error'] = MAE\n",
    "                df_results.loc[count,'RMSE'] = RMSE\n",
    "                count +=1\n",
    "                \n",
    "            elif key is 'XGBoost' and key2 is 'xgb_grid':\n",
    "                print(key,key2)\n",
    "                rand_search = RandomizedSearchCV(pipe, param_distributions=grid, n_iter=5, scoring='accuracy', n_jobs=-1,\n",
    "                                   cv=5, verbose=3, random_state=42)\n",
    "                rand_search.fit(X_train, y_train)\n",
    "                train_score = rand_search.best_estimator_.score(X_train, y_train)\n",
    "                test_score = rand_search.best_estimator_.score(X_test, y_test)\n",
    "                y_pred = rand_search.best_estimator_.predict(X_test)\n",
    "                class_accuracy_score = round(accuracy_score(y_test,y_pred),3)\n",
    "                class_rocauc_score = round(roc_auc_score(y_test,y_pred),3)\n",
    "                class_f1_score = round(f1_score(y_test,y_pred),3)\n",
    "                MAE = round(mean_absolute_error(y_test,y_pred),3)\n",
    "                RMSE = round(np.sqrt(mean_squared_error(y_test, y_pred)),3)\n",
    "                df_results.loc[count,'classifier'] = key\n",
    "                df_results.loc[count,'train_score'] = train_score\n",
    "                df_results.loc[count,'test_score'] = test_score\n",
    "                df_results.loc[count,'accuracy_score'] = class_accuracy_score\n",
    "                df_results.loc[count,'roc_auc_score'] = class_rocauc_score\n",
    "                df_results.loc[count,'f1_score'] = class_f1_score\n",
    "                df_results.loc[count,'Mean Absolute Error'] = MAE\n",
    "                df_results.loc[count,'RMSE'] = RMSE\n",
    "                count +=1\n",
    "                \n",
    "            elif key is 'GNB' and key2 is 'gb_grid':\n",
    "                print(key,key2)\n",
    "                rand_search = RandomizedSearchCV(pipe, param_distributions=grid, n_iter=5, scoring='accuracy', n_jobs=-1,\n",
    "                                   cv=5, verbose=3, random_state=42)\n",
    "                rand_search.fit(X_train, y_train)\n",
    "                train_score = rand_search.best_estimator_.score(X_train, y_train)\n",
    "                test_score = rand_search.best_estimator_.score(X_test, y_test)\n",
    "                y_pred = rand_search.best_estimator_.predict(X_test)\n",
    "                class_accuracy_score = round(accuracy_score(y_test,y_pred),3)\n",
    "                class_rocauc_score = round(roc_auc_score(y_test,y_pred),3)\n",
    "                class_f1_score = round(f1_score(y_test,y_pred),3)\n",
    "                MAE = round(mean_absolute_error(y_test,y_pred),3)\n",
    "                RMSE = round(np.sqrt(mean_squared_error(y_test, y_pred)),3)\n",
    "                df_results.loc[count,'classifier'] = key\n",
    "                df_results.loc[count,'train_score'] = train_score\n",
    "                df_results.loc[count,'test_score'] = test_score\n",
    "                df_results.loc[count,'accuracy_score'] = class_accuracy_score\n",
    "                df_results.loc[count,'roc_auc_score'] = class_rocauc_score\n",
    "                df_results.loc[count,'f1_score'] = class_f1_score\n",
    "                df_results.loc[count,'Mean Absolute Error'] = MAE\n",
    "                df_results.loc[count,'RMSE'] = RMSE\n",
    "                count +=1\n",
    "                \n",
    "            elif key is 'Bagging' and key2 is 'bg_grid':\n",
    "                print(key,key2)\n",
    "                rand_search = RandomizedSearchCV(pipe, param_distributions=grid, n_iter=5, scoring='accuracy', n_jobs=-1,\n",
    "                                   cv=5, verbose=3, random_state=42)\n",
    "                rand_search.fit(X_train, y_train)\n",
    "                train_score = rand_search.best_estimator_.score(X_train, y_train)\n",
    "                test_score = rand_search.best_estimator_.score(X_test, y_test)\n",
    "                y_pred = rand_search.best_estimator_.predict(X_test)\n",
    "                class_accuracy_score = round(accuracy_score(y_test,y_pred),3)\n",
    "                class_rocauc_score = round(roc_auc_score(y_test,y_pred),3)\n",
    "                class_f1_score = round(f1_score(y_test,y_pred),3)\n",
    "                MAE = round(mean_absolute_error(y_test,y_pred),3)\n",
    "                RMSE = round(np.sqrt(mean_squared_error(y_test, y_pred)),3)\n",
    "                df_results.loc[count,'classifier'] = key\n",
    "                df_results.loc[count,'train_score'] = train_score\n",
    "                df_results.loc[count,'test_score'] = test_score\n",
    "                df_results.loc[count,'accuracy_score'] = class_accuracy_score\n",
    "                df_results.loc[count,'roc_auc_score'] = class_rocauc_score\n",
    "                df_results.loc[count,'f1_score'] = class_f1_score\n",
    "                df_results.loc[count,'Mean Absolute Error'] = MAE\n",
    "                df_results.loc[count,'RMSE'] = RMSE\n",
    "                count +=1\n",
    "            \n",
    "            elif key is 'Adaboost' and key2 is 'adb_grid':\n",
    "                print(key,key2)\n",
    "                rand_search = RandomizedSearchCV(pipe, param_distributions=grid, n_iter=5, scoring='accuracy', n_jobs=-1,\n",
    "                                   cv=5, verbose=3, random_state=42)\n",
    "                rand_search.fit(X_train, y_train)\n",
    "                train_score = rand_search.best_estimator_.score(X_train, y_train)\n",
    "                test_score = rand_search.best_estimator_.score(X_test, y_test)\n",
    "                y_pred = rand_search.best_estimator_.predict(X_test)\n",
    "                class_accuracy_score = round(accuracy_score(y_test,y_pred),3)\n",
    "                class_rocauc_score = round(roc_auc_score(y_test,y_pred),3)\n",
    "                class_f1_score = round(f1_score(y_test,y_pred),3)\n",
    "                MAE = round(mean_absolute_error(y_test,y_pred),3)\n",
    "                RMSE = round(np.sqrt(mean_squared_error(y_test, y_pred)),3)\n",
    "                df_results.loc[count,'classifier'] = key\n",
    "                df_results.loc[count,'train_score'] = train_score\n",
    "                df_results.loc[count,'test_score'] = test_score\n",
    "                df_results.loc[count,'accuracy_score'] = class_accuracy_score\n",
    "                df_results.loc[count,'roc_auc_score'] = class_rocauc_score\n",
    "                df_results.loc[count,'f1_score'] = class_f1_score\n",
    "                df_results.loc[count,'Mean Absolute Error'] = MAE\n",
    "                df_results.loc[count,'RMSE'] = RMSE\n",
    "                count +=1\n",
    "            \n",
    "            else:\n",
    "                pass\n",
    "    return df_results"
   ]
  },
  {
   "cell_type": "code",
   "execution_count": null,
   "metadata": {},
   "outputs": [],
   "source": []
  },
  {
   "cell_type": "markdown",
   "metadata": {},
   "source": [
    "# Creating Dataframe for all Classifiers used"
   ]
  },
  {
   "cell_type": "code",
   "execution_count": 78,
   "metadata": {},
   "outputs": [
    {
     "name": "stdout",
     "output_type": "stream",
     "text": [
      "LogReg logreg_grid\n",
      "Fitting 5 folds for each of 4 candidates, totalling 20 fits\n"
     ]
    },
    {
     "name": "stderr",
     "output_type": "stream",
     "text": [
      "[Parallel(n_jobs=-1)]: Using backend LokyBackend with 4 concurrent workers.\n",
      "[Parallel(n_jobs=-1)]: Done  20 out of  20 | elapsed:  7.4min remaining:    0.0s\n",
      "[Parallel(n_jobs=-1)]: Done  20 out of  20 | elapsed:  7.4min finished\n"
     ]
    },
    {
     "name": "stdout",
     "output_type": "stream",
     "text": [
      "RandForest rf_grid\n",
      "Fitting 5 folds for each of 5 candidates, totalling 25 fits\n"
     ]
    },
    {
     "name": "stderr",
     "output_type": "stream",
     "text": [
      "[Parallel(n_jobs=-1)]: Using backend LokyBackend with 4 concurrent workers.\n",
      "[Parallel(n_jobs=-1)]: Done  25 out of  25 | elapsed:  1.6min finished\n"
     ]
    },
    {
     "name": "stdout",
     "output_type": "stream",
     "text": [
      "XGBoost xgb_grid\n",
      "Fitting 5 folds for each of 5 candidates, totalling 25 fits\n"
     ]
    },
    {
     "name": "stderr",
     "output_type": "stream",
     "text": [
      "[Parallel(n_jobs=-1)]: Using backend LokyBackend with 4 concurrent workers.\n",
      "[Parallel(n_jobs=-1)]: Done  25 out of  25 | elapsed:  4.0min finished\n"
     ]
    },
    {
     "name": "stdout",
     "output_type": "stream",
     "text": [
      "GNB gb_grid\n",
      "Fitting 5 folds for each of 3 candidates, totalling 15 fits\n"
     ]
    },
    {
     "name": "stderr",
     "output_type": "stream",
     "text": [
      "[Parallel(n_jobs=-1)]: Using backend LokyBackend with 4 concurrent workers.\n",
      "[Parallel(n_jobs=-1)]: Done  15 out of  15 | elapsed:   14.4s finished\n"
     ]
    },
    {
     "name": "stdout",
     "output_type": "stream",
     "text": [
      "Bagging bg_grid\n",
      "Fitting 5 folds for each of 5 candidates, totalling 25 fits\n"
     ]
    },
    {
     "name": "stderr",
     "output_type": "stream",
     "text": [
      "[Parallel(n_jobs=-1)]: Using backend LokyBackend with 4 concurrent workers.\n",
      "[Parallel(n_jobs=-1)]: Done  25 out of  25 | elapsed: 15.7min finished\n"
     ]
    },
    {
     "name": "stdout",
     "output_type": "stream",
     "text": [
      "Adaboost adb_grid\n",
      "Fitting 5 folds for each of 5 candidates, totalling 25 fits\n"
     ]
    },
    {
     "name": "stderr",
     "output_type": "stream",
     "text": [
      "[Parallel(n_jobs=-1)]: Using backend LokyBackend with 4 concurrent workers.\n",
      "[Parallel(n_jobs=-1)]: Done  25 out of  25 | elapsed:  6.1min finished\n"
     ]
    },
    {
     "data": {
      "text/html": [
       "<div>\n",
       "<style scoped>\n",
       "    .dataframe tbody tr th:only-of-type {\n",
       "        vertical-align: middle;\n",
       "    }\n",
       "\n",
       "    .dataframe tbody tr th {\n",
       "        vertical-align: top;\n",
       "    }\n",
       "\n",
       "    .dataframe thead th {\n",
       "        text-align: right;\n",
       "    }\n",
       "</style>\n",
       "<table border=\"1\" class=\"dataframe\">\n",
       "  <thead>\n",
       "    <tr style=\"text-align: right;\">\n",
       "      <th></th>\n",
       "      <th>classifier</th>\n",
       "      <th>train_score</th>\n",
       "      <th>test_score</th>\n",
       "      <th>accuracy_score</th>\n",
       "      <th>roc_auc_score</th>\n",
       "      <th>f1_score</th>\n",
       "      <th>Mean Absolute Error</th>\n",
       "      <th>RMSE</th>\n",
       "    </tr>\n",
       "  </thead>\n",
       "  <tbody>\n",
       "    <tr>\n",
       "      <th>0</th>\n",
       "      <td>LogReg</td>\n",
       "      <td>0.660978</td>\n",
       "      <td>0.662238</td>\n",
       "      <td>0.662</td>\n",
       "      <td>0.662</td>\n",
       "      <td>0.652</td>\n",
       "      <td>0.338</td>\n",
       "      <td>0.581</td>\n",
       "    </tr>\n",
       "    <tr>\n",
       "      <th>1</th>\n",
       "      <td>RandForest</td>\n",
       "      <td>0.906173</td>\n",
       "      <td>0.901329</td>\n",
       "      <td>0.901</td>\n",
       "      <td>0.902</td>\n",
       "      <td>0.892</td>\n",
       "      <td>0.099</td>\n",
       "      <td>0.314</td>\n",
       "    </tr>\n",
       "    <tr>\n",
       "      <th>2</th>\n",
       "      <td>XGBoost</td>\n",
       "      <td>0.818709</td>\n",
       "      <td>0.819669</td>\n",
       "      <td>0.820</td>\n",
       "      <td>0.820</td>\n",
       "      <td>0.808</td>\n",
       "      <td>0.180</td>\n",
       "      <td>0.425</td>\n",
       "    </tr>\n",
       "    <tr>\n",
       "      <th>3</th>\n",
       "      <td>GNB</td>\n",
       "      <td>0.582151</td>\n",
       "      <td>0.580677</td>\n",
       "      <td>0.581</td>\n",
       "      <td>0.582</td>\n",
       "      <td>0.289</td>\n",
       "      <td>0.419</td>\n",
       "      <td>0.648</td>\n",
       "    </tr>\n",
       "    <tr>\n",
       "      <th>4</th>\n",
       "      <td>Bagging</td>\n",
       "      <td>0.905354</td>\n",
       "      <td>0.903651</td>\n",
       "      <td>0.904</td>\n",
       "      <td>0.904</td>\n",
       "      <td>0.894</td>\n",
       "      <td>0.096</td>\n",
       "      <td>0.310</td>\n",
       "    </tr>\n",
       "    <tr>\n",
       "      <th>5</th>\n",
       "      <td>Adaboost</td>\n",
       "      <td>0.718219</td>\n",
       "      <td>0.718858</td>\n",
       "      <td>0.719</td>\n",
       "      <td>0.719</td>\n",
       "      <td>0.706</td>\n",
       "      <td>0.281</td>\n",
       "      <td>0.530</td>\n",
       "    </tr>\n",
       "  </tbody>\n",
       "</table>\n",
       "</div>"
      ],
      "text/plain": [
       "   classifier  train_score  test_score  accuracy_score  roc_auc_score  \\\n",
       "0      LogReg     0.660978    0.662238           0.662          0.662   \n",
       "1  RandForest     0.906173    0.901329           0.901          0.902   \n",
       "2     XGBoost     0.818709    0.819669           0.820          0.820   \n",
       "3         GNB     0.582151    0.580677           0.581          0.582   \n",
       "4     Bagging     0.905354    0.903651           0.904          0.904   \n",
       "5    Adaboost     0.718219    0.718858           0.719          0.719   \n",
       "\n",
       "   f1_score  Mean Absolute Error   RMSE  \n",
       "0     0.652                0.338  0.581  \n",
       "1     0.892                0.099  0.314  \n",
       "2     0.808                0.180  0.425  \n",
       "3     0.289                0.419  0.648  \n",
       "4     0.894                0.096  0.310  \n",
       "5     0.706                0.281  0.530  "
      ]
     },
     "execution_count": 78,
     "metadata": {},
     "output_type": "execute_result"
    }
   ],
   "source": [
    "df_results = batch_classify(X_train, y_train, X_test, y_test)\n",
    "df_results"
   ]
  },
  {
   "cell_type": "markdown",
   "metadata": {},
   "source": [
    "## Random Forest Classifier\n",
    "\n",
    "Decide using this compared to Bagging Classifier because even though Bagging Classifier is better than RF in terms of other metrics, there is also a trade off for the comprehensibility of the model. RF is better to interpret as compared to Bagging Classifier that's is why I decided to use RF as my best classifier."
   ]
  },
  {
   "cell_type": "code",
   "execution_count": 81,
   "metadata": {},
   "outputs": [
    {
     "name": "stdout",
     "output_type": "stream",
     "text": [
      "Fitting 5 folds for each of 5 candidates, totalling 25 fits\n"
     ]
    },
    {
     "name": "stderr",
     "output_type": "stream",
     "text": [
      "[Parallel(n_jobs=-1)]: Using backend LokyBackend with 4 concurrent workers.\n",
      "[Parallel(n_jobs=-1)]: Done  25 out of  25 | elapsed:  1.4min finished\n"
     ]
    },
    {
     "name": "stdout",
     "output_type": "stream",
     "text": [
      "0.9013567656164633\n"
     ]
    },
    {
     "data": {
      "text/html": [
       "<div>\n",
       "<style scoped>\n",
       "    .dataframe tbody tr th:only-of-type {\n",
       "        vertical-align: middle;\n",
       "    }\n",
       "\n",
       "    .dataframe tbody tr th {\n",
       "        vertical-align: top;\n",
       "    }\n",
       "\n",
       "    .dataframe thead th {\n",
       "        text-align: right;\n",
       "    }\n",
       "</style>\n",
       "<table border=\"1\" class=\"dataframe\">\n",
       "  <thead>\n",
       "    <tr style=\"text-align: right;\">\n",
       "      <th></th>\n",
       "      <th>feature</th>\n",
       "      <th>importance</th>\n",
       "    </tr>\n",
       "  </thead>\n",
       "  <tbody>\n",
       "    <tr>\n",
       "      <th>1</th>\n",
       "      <td>term_ 36 months</td>\n",
       "      <td>0.134043</td>\n",
       "    </tr>\n",
       "    <tr>\n",
       "      <th>0</th>\n",
       "      <td>int_rate</td>\n",
       "      <td>0.125661</td>\n",
       "    </tr>\n",
       "    <tr>\n",
       "      <th>10</th>\n",
       "      <td>grade_C</td>\n",
       "      <td>0.121240</td>\n",
       "    </tr>\n",
       "    <tr>\n",
       "      <th>11</th>\n",
       "      <td>grade_D</td>\n",
       "      <td>0.092902</td>\n",
       "    </tr>\n",
       "    <tr>\n",
       "      <th>4</th>\n",
       "      <td>home_ownership_RENT</td>\n",
       "      <td>0.085064</td>\n",
       "    </tr>\n",
       "    <tr>\n",
       "      <th>3</th>\n",
       "      <td>emp_length_0-3 years</td>\n",
       "      <td>0.073452</td>\n",
       "    </tr>\n",
       "    <tr>\n",
       "      <th>5</th>\n",
       "      <td>verification_status_Not Verified</td>\n",
       "      <td>0.069816</td>\n",
       "    </tr>\n",
       "    <tr>\n",
       "      <th>2</th>\n",
       "      <td>term_ 60 months</td>\n",
       "      <td>0.068578</td>\n",
       "    </tr>\n",
       "    <tr>\n",
       "      <th>8</th>\n",
       "      <td>debt_settlement_flag_Y</td>\n",
       "      <td>0.054977</td>\n",
       "    </tr>\n",
       "    <tr>\n",
       "      <th>6</th>\n",
       "      <td>region_SouthEast</td>\n",
       "      <td>0.048091</td>\n",
       "    </tr>\n",
       "    <tr>\n",
       "      <th>12</th>\n",
       "      <td>grade_E</td>\n",
       "      <td>0.040505</td>\n",
       "    </tr>\n",
       "    <tr>\n",
       "      <th>9</th>\n",
       "      <td>grade_A</td>\n",
       "      <td>0.038611</td>\n",
       "    </tr>\n",
       "    <tr>\n",
       "      <th>7</th>\n",
       "      <td>debt_settlement_flag_N</td>\n",
       "      <td>0.034434</td>\n",
       "    </tr>\n",
       "    <tr>\n",
       "      <th>13</th>\n",
       "      <td>grade_F</td>\n",
       "      <td>0.010838</td>\n",
       "    </tr>\n",
       "    <tr>\n",
       "      <th>14</th>\n",
       "      <td>grade_G</td>\n",
       "      <td>0.001787</td>\n",
       "    </tr>\n",
       "  </tbody>\n",
       "</table>\n",
       "</div>"
      ],
      "text/plain": [
       "                             feature  importance\n",
       "1                    term_ 36 months    0.134043\n",
       "0                           int_rate    0.125661\n",
       "10                           grade_C    0.121240\n",
       "11                           grade_D    0.092902\n",
       "4                home_ownership_RENT    0.085064\n",
       "3               emp_length_0-3 years    0.073452\n",
       "5   verification_status_Not Verified    0.069816\n",
       "2                    term_ 60 months    0.068578\n",
       "8             debt_settlement_flag_Y    0.054977\n",
       "6                   region_SouthEast    0.048091\n",
       "12                           grade_E    0.040505\n",
       "9                            grade_A    0.038611\n",
       "7             debt_settlement_flag_N    0.034434\n",
       "13                           grade_F    0.010838\n",
       "14                           grade_G    0.001787"
      ]
     },
     "execution_count": 81,
     "metadata": {},
     "output_type": "execute_result"
    }
   ],
   "source": [
    "rf_model = RandomForestClassifier()\n",
    "random_grid = {'n_estimators': [int(x) for x in np.linspace(start = 10, stop = 20, num = 1)] ,\n",
    "               'max_features': ['auto', 'sqrt'],\n",
    "               'max_depth': [int(x) for x in np.linspace(10, 50, num = 5)],\n",
    "               'min_samples_split': [2, 3, 5],\n",
    "               'min_samples_leaf': [1,2,4],\n",
    "               'bootstrap': [True, False]}\n",
    "random_search = RandomizedSearchCV(rf_model, param_distributions=random_grid, n_iter=5, scoring='accuracy', n_jobs=-1,\n",
    "                                   cv=5, verbose=3, random_state=42)\n",
    "random_search.fit(X_train, y_train)\n",
    "y_pred = random_search.predict(X_test)\n",
    "accy = accuracy_score(y_test,y_pred)\n",
    "print(accy)\n",
    "feature_importances = list(zip(cols, random_search.best_estimator_.feature_importances_))\n",
    "feature_importances = pd.DataFrame(feature_importances, columns=['feature', 'importance'])\n",
    "feature_importances.sort_values(by='importance', ascending=False)"
   ]
  },
  {
   "cell_type": "markdown",
   "metadata": {},
   "source": [
    "I used these feature importances to determine the specific characteristics of borrowers who are likely to default their loan."
   ]
  },
  {
   "cell_type": "code",
   "execution_count": null,
   "metadata": {},
   "outputs": [],
   "source": []
  }
 ],
 "metadata": {
  "kernelspec": {
   "display_name": "Python 3",
   "language": "python",
   "name": "python3"
  },
  "language_info": {
   "codemirror_mode": {
    "name": "ipython",
    "version": 3
   },
   "file_extension": ".py",
   "mimetype": "text/x-python",
   "name": "python",
   "nbconvert_exporter": "python",
   "pygments_lexer": "ipython3",
   "version": "3.7.3"
  }
 },
 "nbformat": 4,
 "nbformat_minor": 2
}
